{
 "cells": [
  {
   "cell_type": "markdown",
   "metadata": {},
   "source": [
    "# Trained Models in Class and Methods"
   ]
  },
  {
   "cell_type": "code",
   "execution_count": 9,
   "metadata": {},
   "outputs": [],
   "source": [
    "# Imports\n",
    "\n",
    "import pandas as pd\n",
    "import numpy as np\n",
    "import pickle\n",
    "from spacy.lang.en import English\n",
    "from sklearn.feature_extraction.text import TfidfVectorizer"
   ]
  },
  {
   "cell_type": "code",
   "execution_count": 4,
   "metadata": {},
   "outputs": [],
   "source": [
    "KNN = \"KNN_Model.pkl\"\n",
    "CNN = \"CNN_Model.pkl\""
   ]
  },
  {
   "cell_type": "code",
   "execution_count": 3,
   "metadata": {},
   "outputs": [],
   "source": [
    "# Loading pickled model from file\n",
    "\n",
    "loaded_knn = pickle.load(open(KNN, 'rb'))"
   ]
  },
  {
   "cell_type": "code",
   "execution_count": 5,
   "metadata": {},
   "outputs": [],
   "source": [
    "# Loading pickled model from file\n",
    "\n",
    "loaded_cnn = pickle.load(open(CNN, 'rb'))"
   ]
  },
  {
   "cell_type": "code",
   "execution_count": 6,
   "metadata": {},
   "outputs": [
    {
     "data": {
      "text/plain": [
       "NearestNeighbors(algorithm='kd_tree', leaf_size=30, metric='minkowski',\n",
       "                 metric_params=None, n_jobs=None, n_neighbors=5, p=2,\n",
       "                 radius=1.0)"
      ]
     },
     "execution_count": 6,
     "metadata": {},
     "output_type": "execute_result"
    }
   ],
   "source": [
    "loaded_knn"
   ]
  },
  {
   "cell_type": "code",
   "execution_count": 7,
   "metadata": {},
   "outputs": [
    {
     "data": {
      "text/plain": [
       "NearestNeighbors(algorithm='kd_tree', leaf_size=30, metric='minkowski',\n",
       "                 metric_params=None, n_jobs=None, n_neighbors=5, p=2,\n",
       "                 radius=1.0)"
      ]
     },
     "execution_count": 7,
     "metadata": {},
     "output_type": "execute_result"
    }
   ],
   "source": [
    "loaded_cnn"
   ]
  },
  {
   "cell_type": "markdown",
   "metadata": {},
   "source": [
    "## Preprocessing"
   ]
  },
  {
   "cell_type": "code",
   "execution_count": 10,
   "metadata": {},
   "outputs": [],
   "source": [
    "vectorizer = TfidfVectorizer(stop_words=\"english\", min_df=0.025, max_df=0.98, ngram_range=(1,3))"
   ]
  },
  {
   "cell_type": "code",
   "execution_count": 11,
   "metadata": {},
   "outputs": [],
   "source": [
    "nlp = English()"
   ]
  },
  {
   "cell_type": "code",
   "execution_count": 15,
   "metadata": {},
   "outputs": [],
   "source": [
    "data = pd.read_csv('df_strains.csv')"
   ]
  },
  {
   "cell_type": "code",
   "execution_count": 16,
   "metadata": {},
   "outputs": [
    {
     "data": {
      "text/html": [
       "<div>\n",
       "<style scoped>\n",
       "    .dataframe tbody tr th:only-of-type {\n",
       "        vertical-align: middle;\n",
       "    }\n",
       "\n",
       "    .dataframe tbody tr th {\n",
       "        vertical-align: top;\n",
       "    }\n",
       "\n",
       "    .dataframe thead th {\n",
       "        text-align: right;\n",
       "    }\n",
       "</style>\n",
       "<table border=\"1\" class=\"dataframe\">\n",
       "  <thead>\n",
       "    <tr style=\"text-align: right;\">\n",
       "      <th></th>\n",
       "      <th>Unnamed: 0</th>\n",
       "      <th>index</th>\n",
       "      <th>Strain</th>\n",
       "      <th>Type</th>\n",
       "      <th>Effects</th>\n",
       "      <th>Flavor</th>\n",
       "      <th>Description</th>\n",
       "      <th>name</th>\n",
       "      <th>ailment</th>\n",
       "      <th>all_text</th>\n",
       "      <th>lemmas</th>\n",
       "      <th>Cos Sim Strains</th>\n",
       "      <th>KNN Strains</th>\n",
       "    </tr>\n",
       "  </thead>\n",
       "  <tbody>\n",
       "    <tr>\n",
       "      <th>0</th>\n",
       "      <td>0</td>\n",
       "      <td>0</td>\n",
       "      <td>100-Og</td>\n",
       "      <td>hybrid</td>\n",
       "      <td>Creative,Energetic,Tingly,Euphoric,Relaxed</td>\n",
       "      <td>Earthy,Sweet,Citrus</td>\n",
       "      <td>$100 OG is a 50/50 hybrid strain that packs a ...</td>\n",
       "      <td>NaN</td>\n",
       "      <td>NaN</td>\n",
       "      <td>100-Og hybrid Creative,Energetic,Tingly,Euphor...</td>\n",
       "      <td>100-Og hybrid Creative energetic Tingly Euphor...</td>\n",
       "      <td>dict_keys([670, 2137, 1837, 1384, 1697])</td>\n",
       "      <td>[241 227 235 234 310]</td>\n",
       "    </tr>\n",
       "    <tr>\n",
       "      <th>1</th>\n",
       "      <td>1</td>\n",
       "      <td>1</td>\n",
       "      <td>98-White-Widow</td>\n",
       "      <td>hybrid</td>\n",
       "      <td>Relaxed,Aroused,Creative,Happy,Energetic</td>\n",
       "      <td>Flowery,Violet,Diesel</td>\n",
       "      <td>The ‘98 Aloha White Widow is an especially pot...</td>\n",
       "      <td>NaN</td>\n",
       "      <td>NaN</td>\n",
       "      <td>98-White-Widow hybrid Relaxed,Aroused,Creative...</td>\n",
       "      <td>98-white widow hybrid Relaxed arouse Creative ...</td>\n",
       "      <td>dict_keys([2240, 237, 820, 2221, 2239])</td>\n",
       "      <td>[ 58  79 112 216 113]</td>\n",
       "    </tr>\n",
       "    <tr>\n",
       "      <th>2</th>\n",
       "      <td>2</td>\n",
       "      <td>2</td>\n",
       "      <td>1024</td>\n",
       "      <td>sativa</td>\n",
       "      <td>Uplifted,Happy,Relaxed,Energetic,Creative</td>\n",
       "      <td>Spicy/Herbal,Sage,Woody</td>\n",
       "      <td>1024 is a sativa-dominant hybrid bred in Spain...</td>\n",
       "      <td>1024</td>\n",
       "      <td>Stress, Pain, Depression, Inflammation</td>\n",
       "      <td>1024 sativa Uplifted,Happy,Relaxed,Energetic,C...</td>\n",
       "      <td>1024 sativa Uplifted happy relaxed energetic C...</td>\n",
       "      <td>dict_keys([1041, 1014, 2171, 620, 1413])</td>\n",
       "      <td>[101 367 102 234  99]</td>\n",
       "    </tr>\n",
       "    <tr>\n",
       "      <th>3</th>\n",
       "      <td>3</td>\n",
       "      <td>3</td>\n",
       "      <td>13-Dawgs</td>\n",
       "      <td>hybrid</td>\n",
       "      <td>Tingly,Creative,Hungry,Relaxed,Uplifted</td>\n",
       "      <td>Apricot,Citrus,Grapefruit</td>\n",
       "      <td>13 Dawgs is a hybrid of G13 and Chemdawg genet...</td>\n",
       "      <td>NaN</td>\n",
       "      <td>NaN</td>\n",
       "      <td>13-Dawgs hybrid Tingly,Creative,Hungry,Relaxed...</td>\n",
       "      <td>13-dawgs hybrid Tingly creative hungry Relaxed...</td>\n",
       "      <td>dict_keys([3, 1026, 1043, 133, 913])</td>\n",
       "      <td>[239 222 226 240 255]</td>\n",
       "    </tr>\n",
       "    <tr>\n",
       "      <th>4</th>\n",
       "      <td>4</td>\n",
       "      <td>4</td>\n",
       "      <td>24K-Gold</td>\n",
       "      <td>hybrid</td>\n",
       "      <td>Happy,Relaxed,Euphoric,Uplifted,Talkative</td>\n",
       "      <td>Citrus,Earthy,Orange</td>\n",
       "      <td>Also known as Kosher Tangie, 24k Gold is a 60%...</td>\n",
       "      <td>NaN</td>\n",
       "      <td>NaN</td>\n",
       "      <td>24K-Gold hybrid Happy,Relaxed,Euphoric,Uplifte...</td>\n",
       "      <td>24k gold hybrid Happy Relaxed Euphoric Uplifte...</td>\n",
       "      <td>dict_keys([1498, 1483, 1172, 544, 1496])</td>\n",
       "      <td>[235 234 368 103 233]</td>\n",
       "    </tr>\n",
       "  </tbody>\n",
       "</table>\n",
       "</div>"
      ],
      "text/plain": [
       "   Unnamed: 0  index          Strain    Type  \\\n",
       "0           0      0          100-Og  hybrid   \n",
       "1           1      1  98-White-Widow  hybrid   \n",
       "2           2      2            1024  sativa   \n",
       "3           3      3        13-Dawgs  hybrid   \n",
       "4           4      4        24K-Gold  hybrid   \n",
       "\n",
       "                                      Effects                     Flavor  \\\n",
       "0  Creative,Energetic,Tingly,Euphoric,Relaxed        Earthy,Sweet,Citrus   \n",
       "1    Relaxed,Aroused,Creative,Happy,Energetic      Flowery,Violet,Diesel   \n",
       "2   Uplifted,Happy,Relaxed,Energetic,Creative    Spicy/Herbal,Sage,Woody   \n",
       "3     Tingly,Creative,Hungry,Relaxed,Uplifted  Apricot,Citrus,Grapefruit   \n",
       "4   Happy,Relaxed,Euphoric,Uplifted,Talkative       Citrus,Earthy,Orange   \n",
       "\n",
       "                                         Description  name  \\\n",
       "0  $100 OG is a 50/50 hybrid strain that packs a ...   NaN   \n",
       "1  The ‘98 Aloha White Widow is an especially pot...   NaN   \n",
       "2  1024 is a sativa-dominant hybrid bred in Spain...  1024   \n",
       "3  13 Dawgs is a hybrid of G13 and Chemdawg genet...   NaN   \n",
       "4  Also known as Kosher Tangie, 24k Gold is a 60%...   NaN   \n",
       "\n",
       "                                  ailment  \\\n",
       "0                                     NaN   \n",
       "1                                     NaN   \n",
       "2  Stress, Pain, Depression, Inflammation   \n",
       "3                                     NaN   \n",
       "4                                     NaN   \n",
       "\n",
       "                                            all_text  \\\n",
       "0  100-Og hybrid Creative,Energetic,Tingly,Euphor...   \n",
       "1  98-White-Widow hybrid Relaxed,Aroused,Creative...   \n",
       "2  1024 sativa Uplifted,Happy,Relaxed,Energetic,C...   \n",
       "3  13-Dawgs hybrid Tingly,Creative,Hungry,Relaxed...   \n",
       "4  24K-Gold hybrid Happy,Relaxed,Euphoric,Uplifte...   \n",
       "\n",
       "                                              lemmas  \\\n",
       "0  100-Og hybrid Creative energetic Tingly Euphor...   \n",
       "1  98-white widow hybrid Relaxed arouse Creative ...   \n",
       "2  1024 sativa Uplifted happy relaxed energetic C...   \n",
       "3  13-dawgs hybrid Tingly creative hungry Relaxed...   \n",
       "4  24k gold hybrid Happy Relaxed Euphoric Uplifte...   \n",
       "\n",
       "                            Cos Sim Strains            KNN Strains  \n",
       "0  dict_keys([670, 2137, 1837, 1384, 1697])  [241 227 235 234 310]  \n",
       "1   dict_keys([2240, 237, 820, 2221, 2239])  [ 58  79 112 216 113]  \n",
       "2  dict_keys([1041, 1014, 2171, 620, 1413])  [101 367 102 234  99]  \n",
       "3      dict_keys([3, 1026, 1043, 133, 913])  [239 222 226 240 255]  \n",
       "4  dict_keys([1498, 1483, 1172, 544, 1496])  [235 234 368 103 233]  "
      ]
     },
     "execution_count": 16,
     "metadata": {},
     "output_type": "execute_result"
    }
   ],
   "source": [
    "data.head()"
   ]
  },
  {
   "cell_type": "code",
   "execution_count": 20,
   "metadata": {},
   "outputs": [
    {
     "data": {
      "text/plain": [
       "2280"
      ]
     },
     "execution_count": 20,
     "metadata": {},
     "output_type": "execute_result"
    }
   ],
   "source": [
    "len(data['KNN Strains'])"
   ]
  },
  {
   "cell_type": "code",
   "execution_count": null,
   "metadata": {},
   "outputs": [],
   "source": []
  },
  {
   "cell_type": "code",
   "execution_count": null,
   "metadata": {},
   "outputs": [],
   "source": [
    "class BudTender:\n",
    "    \n",
    "    def __init__(self):\n",
    "        \n",
    "        class Tokenizer:\n",
    "            \n",
    "            nlp = English()\n",
    "            \n",
    "        \n",
    "    "
   ]
  }
 ],
 "metadata": {
  "kernelspec": {
   "display_name": "U4-S1-NLP (Python3)",
   "language": "python",
   "name": "u4-s1-nlp"
  },
  "language_info": {
   "codemirror_mode": {
    "name": "ipython",
    "version": 3
   },
   "file_extension": ".py",
   "mimetype": "text/x-python",
   "name": "python",
   "nbconvert_exporter": "python",
   "pygments_lexer": "ipython3",
   "version": "3.7.0"
  }
 },
 "nbformat": 4,
 "nbformat_minor": 4
}
