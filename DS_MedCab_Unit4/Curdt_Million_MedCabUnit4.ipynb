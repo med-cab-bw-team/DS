{
 "cells": [
  {
   "cell_type": "markdown",
   "metadata": {},
   "source": [
    "# MedCab Data Science Unit 4"
   ]
  },
  {
   "cell_type": "markdown",
   "metadata": {},
   "source": [
    "## Initial Data Exploration"
   ]
  },
  {
   "cell_type": "markdown",
   "metadata": {},
   "source": [
    "### Looking at the raw .csv file"
   ]
  },
  {
   "cell_type": "code",
   "execution_count": 1,
   "metadata": {},
   "outputs": [],
   "source": [
    "# Import potentially required libraries:\n",
    "\n",
    "import os\n",
    "import pandas as pd\n",
    "import numpy as np\n",
    "import matplotlib.pyplot as plt\n",
    "import seaborn as sns\n",
    "np.set_printoptions(precision=3, suppress=True)\n",
    "\n",
    "import warnings\n",
    "warnings.simplefilter(\"ignore\")\n",
    "\n",
    "from IPython.display import Image"
   ]
  },
  {
   "cell_type": "code",
   "execution_count": 2,
   "metadata": {},
   "outputs": [
    {
     "data": {
      "text/html": [
       "<div>\n",
       "<style scoped>\n",
       "    .dataframe tbody tr th:only-of-type {\n",
       "        vertical-align: middle;\n",
       "    }\n",
       "\n",
       "    .dataframe tbody tr th {\n",
       "        vertical-align: top;\n",
       "    }\n",
       "\n",
       "    .dataframe thead th {\n",
       "        text-align: right;\n",
       "    }\n",
       "</style>\n",
       "<table border=\"1\" class=\"dataframe\">\n",
       "  <thead>\n",
       "    <tr style=\"text-align: right;\">\n",
       "      <th></th>\n",
       "      <th>Strain</th>\n",
       "      <th>Type</th>\n",
       "      <th>Rating</th>\n",
       "      <th>Effects</th>\n",
       "      <th>Flavor</th>\n",
       "      <th>Description</th>\n",
       "    </tr>\n",
       "  </thead>\n",
       "  <tbody>\n",
       "    <tr>\n",
       "      <th>0</th>\n",
       "      <td>100-Og</td>\n",
       "      <td>hybrid</td>\n",
       "      <td>4.0</td>\n",
       "      <td>Creative,Energetic,Tingly,Euphoric,Relaxed</td>\n",
       "      <td>Earthy,Sweet,Citrus</td>\n",
       "      <td>$100 OG is a 50/50 hybrid strain that packs a ...</td>\n",
       "    </tr>\n",
       "    <tr>\n",
       "      <th>1</th>\n",
       "      <td>98-White-Widow</td>\n",
       "      <td>hybrid</td>\n",
       "      <td>4.7</td>\n",
       "      <td>Relaxed,Aroused,Creative,Happy,Energetic</td>\n",
       "      <td>Flowery,Violet,Diesel</td>\n",
       "      <td>The ‘98 Aloha White Widow is an especially pot...</td>\n",
       "    </tr>\n",
       "    <tr>\n",
       "      <th>2</th>\n",
       "      <td>1024</td>\n",
       "      <td>sativa</td>\n",
       "      <td>4.4</td>\n",
       "      <td>Uplifted,Happy,Relaxed,Energetic,Creative</td>\n",
       "      <td>Spicy/Herbal,Sage,Woody</td>\n",
       "      <td>1024 is a sativa-dominant hybrid bred in Spain...</td>\n",
       "    </tr>\n",
       "    <tr>\n",
       "      <th>3</th>\n",
       "      <td>13-Dawgs</td>\n",
       "      <td>hybrid</td>\n",
       "      <td>4.2</td>\n",
       "      <td>Tingly,Creative,Hungry,Relaxed,Uplifted</td>\n",
       "      <td>Apricot,Citrus,Grapefruit</td>\n",
       "      <td>13 Dawgs is a hybrid of G13 and Chemdawg genet...</td>\n",
       "    </tr>\n",
       "    <tr>\n",
       "      <th>4</th>\n",
       "      <td>24K-Gold</td>\n",
       "      <td>hybrid</td>\n",
       "      <td>4.6</td>\n",
       "      <td>Happy,Relaxed,Euphoric,Uplifted,Talkative</td>\n",
       "      <td>Citrus,Earthy,Orange</td>\n",
       "      <td>Also known as Kosher Tangie, 24k Gold is a 60%...</td>\n",
       "    </tr>\n",
       "  </tbody>\n",
       "</table>\n",
       "</div>"
      ],
      "text/plain": [
       "           Strain    Type  Rating                                     Effects  \\\n",
       "0          100-Og  hybrid     4.0  Creative,Energetic,Tingly,Euphoric,Relaxed   \n",
       "1  98-White-Widow  hybrid     4.7    Relaxed,Aroused,Creative,Happy,Energetic   \n",
       "2            1024  sativa     4.4   Uplifted,Happy,Relaxed,Energetic,Creative   \n",
       "3        13-Dawgs  hybrid     4.2     Tingly,Creative,Hungry,Relaxed,Uplifted   \n",
       "4        24K-Gold  hybrid     4.6   Happy,Relaxed,Euphoric,Uplifted,Talkative   \n",
       "\n",
       "                      Flavor  \\\n",
       "0        Earthy,Sweet,Citrus   \n",
       "1      Flowery,Violet,Diesel   \n",
       "2    Spicy/Herbal,Sage,Woody   \n",
       "3  Apricot,Citrus,Grapefruit   \n",
       "4       Citrus,Earthy,Orange   \n",
       "\n",
       "                                         Description  \n",
       "0  $100 OG is a 50/50 hybrid strain that packs a ...  \n",
       "1  The ‘98 Aloha White Widow is an especially pot...  \n",
       "2  1024 is a sativa-dominant hybrid bred in Spain...  \n",
       "3  13 Dawgs is a hybrid of G13 and Chemdawg genet...  \n",
       "4  Also known as Kosher Tangie, 24k Gold is a 60%...  "
      ]
     },
     "execution_count": 2,
     "metadata": {},
     "output_type": "execute_result"
    }
   ],
   "source": [
    "# Import data:\n",
    "\n",
    "df = pd.read_csv('cannabis.csv')\n",
    "df.head()"
   ]
  },
  {
   "cell_type": "code",
   "execution_count": 3,
   "metadata": {},
   "outputs": [
    {
     "name": "stdout",
     "output_type": "stream",
     "text": [
      "<class 'pandas.core.frame.DataFrame'>\n",
      "RangeIndex: 2351 entries, 0 to 2350\n",
      "Data columns (total 6 columns):\n",
      " #   Column       Non-Null Count  Dtype  \n",
      "---  ------       --------------  -----  \n",
      " 0   Strain       2351 non-null   object \n",
      " 1   Type         2351 non-null   object \n",
      " 2   Rating       2351 non-null   float64\n",
      " 3   Effects      2351 non-null   object \n",
      " 4   Flavor       2305 non-null   object \n",
      " 5   Description  2318 non-null   object \n",
      "dtypes: float64(1), object(5)\n",
      "memory usage: 110.3+ KB\n"
     ]
    }
   ],
   "source": [
    "# Looking at the dataset's information:\n",
    "\n",
    "df.info()"
   ]
  },
  {
   "cell_type": "code",
   "execution_count": 4,
   "metadata": {},
   "outputs": [
    {
     "data": {
      "text/plain": [
       "Strain          0\n",
       "Type            0\n",
       "Rating          0\n",
       "Effects         0\n",
       "Flavor         46\n",
       "Description    33\n",
       "dtype: int64"
      ]
     },
     "execution_count": 4,
     "metadata": {},
     "output_type": "execute_result"
    }
   ],
   "source": [
    "# Looking for null values:\n",
    "\n",
    "df.isnull().sum()"
   ]
  },
  {
   "cell_type": "code",
   "execution_count": 5,
   "metadata": {},
   "outputs": [
    {
     "data": {
      "text/plain": [
       "2350"
      ]
     },
     "execution_count": 5,
     "metadata": {},
     "output_type": "execute_result"
    }
   ],
   "source": [
    "# Checking for unique strains:\n",
    "\n",
    "df['Strain'].nunique()"
   ]
  },
  {
   "cell_type": "code",
   "execution_count": 6,
   "metadata": {},
   "outputs": [
    {
     "data": {
      "text/plain": [
       "3"
      ]
     },
     "execution_count": 6,
     "metadata": {},
     "output_type": "execute_result"
    }
   ],
   "source": [
    "# Checking for unique types:\n",
    "\n",
    "df['Type'].nunique()"
   ]
  },
  {
   "cell_type": "code",
   "execution_count": 7,
   "metadata": {},
   "outputs": [
    {
     "name": "stdout",
     "output_type": "stream",
     "text": [
      "hybrid    1212\n",
      "indica     699\n",
      "sativa     440\n",
      "Name: Type, dtype: int64\n"
     ]
    },
    {
     "data": {
      "image/png": "[encoded data removed]",
      "text/plain": [
       "<Figure size 432x288 with 1 Axes>"
      ]
     },
     "metadata": {
      "needs_background": "light"
     },
     "output_type": "display_data"
    }
   ],
   "source": [
    "# Chart showing the value counts of each type:\n",
    "\n",
    "print(df.Type.value_counts())\n",
    "sns.categorical.countplot(df.Type);"
   ]
  },
  {
   "cell_type": "code",
   "execution_count": 8,
   "metadata": {},
   "outputs": [
    {
     "data": {
      "image/png": "[encoded data removed]",
      "text/plain": [
       "<Figure size 432x288 with 1 Axes>"
      ]
     },
     "metadata": {
      "needs_background": "light"
     },
     "output_type": "display_data"
    }
   ],
   "source": [
    "# Distribution plot for ratings by strain:\n",
    "\n",
    "sns.distplot(df.Rating);"
   ]
  },
  {
   "cell_type": "code",
   "execution_count": 9,
   "metadata": {},
   "outputs": [
    {
     "data": {
      "text/plain": [
       "Type\n",
       "hybrid    5.0\n",
       "indica    5.0\n",
       "sativa    5.0\n",
       "Name: Rating, dtype: float64"
      ]
     },
     "execution_count": 9,
     "metadata": {},
     "output_type": "execute_result"
    }
   ],
   "source": [
    "df.groupby([\"Type\"])[\"Rating\"].max()"
   ]
  },
  {
   "cell_type": "code",
   "execution_count": 10,
   "metadata": {},
   "outputs": [
    {
     "data": {
      "text/plain": [
       "Type\n",
       "hybrid    0.0\n",
       "indica    0.0\n",
       "sativa    0.0\n",
       "Name: Rating, dtype: float64"
      ]
     },
     "execution_count": 10,
     "metadata": {},
     "output_type": "execute_result"
    }
   ],
   "source": [
    "df.groupby([\"Type\"])[\"Rating\"].min()"
   ]
  },
  {
   "cell_type": "code",
   "execution_count": 11,
   "metadata": {},
   "outputs": [
    {
     "data": {
      "text/plain": [
       "Type\n",
       "hybrid    4.291667\n",
       "indica    4.347783\n",
       "sativa    4.303864\n",
       "Name: Rating, dtype: float64"
      ]
     },
     "execution_count": 11,
     "metadata": {},
     "output_type": "execute_result"
    }
   ],
   "source": [
    "df.groupby([\"Type\"])[\"Rating\"].mean()"
   ]
  },
  {
   "cell_type": "code",
   "execution_count": 12,
   "metadata": {},
   "outputs": [],
   "source": [
    "# Making df's for effects and flavors:\n",
    "\n",
    "effects = pd.DataFrame(df.Effects.str.split(',', 4).tolist(),\n",
    "             columns = ['Effect_one','Effect_two','Effect_three','Effect_four','Effect_five'])\n",
    "\n",
    "flavors = pd.DataFrame(df.Flavor.str.split(',',n=2,expand=True).values.tolist(),\n",
    "                          columns = ['Flavor_one','Flavor_two','Flavor_three'])"
   ]
  },
  {
   "cell_type": "code",
   "execution_count": 13,
   "metadata": {},
   "outputs": [
    {
     "data": {
      "text/html": [
       "<div>\n",
       "<style scoped>\n",
       "    .dataframe tbody tr th:only-of-type {\n",
       "        vertical-align: middle;\n",
       "    }\n",
       "\n",
       "    .dataframe tbody tr th {\n",
       "        vertical-align: top;\n",
       "    }\n",
       "\n",
       "    .dataframe thead th {\n",
       "        text-align: right;\n",
       "    }\n",
       "</style>\n",
       "<table border=\"1\" class=\"dataframe\">\n",
       "  <thead>\n",
       "    <tr style=\"text-align: right;\">\n",
       "      <th></th>\n",
       "      <th>Effect_one</th>\n",
       "      <th>Effect_two</th>\n",
       "      <th>Effect_three</th>\n",
       "      <th>Effect_four</th>\n",
       "      <th>Effect_five</th>\n",
       "    </tr>\n",
       "  </thead>\n",
       "  <tbody>\n",
       "    <tr>\n",
       "      <th>0</th>\n",
       "      <td>Creative</td>\n",
       "      <td>Energetic</td>\n",
       "      <td>Tingly</td>\n",
       "      <td>Euphoric</td>\n",
       "      <td>Relaxed</td>\n",
       "    </tr>\n",
       "    <tr>\n",
       "      <th>1</th>\n",
       "      <td>Relaxed</td>\n",
       "      <td>Aroused</td>\n",
       "      <td>Creative</td>\n",
       "      <td>Happy</td>\n",
       "      <td>Energetic</td>\n",
       "    </tr>\n",
       "    <tr>\n",
       "      <th>2</th>\n",
       "      <td>Uplifted</td>\n",
       "      <td>Happy</td>\n",
       "      <td>Relaxed</td>\n",
       "      <td>Energetic</td>\n",
       "      <td>Creative</td>\n",
       "    </tr>\n",
       "    <tr>\n",
       "      <th>3</th>\n",
       "      <td>Tingly</td>\n",
       "      <td>Creative</td>\n",
       "      <td>Hungry</td>\n",
       "      <td>Relaxed</td>\n",
       "      <td>Uplifted</td>\n",
       "    </tr>\n",
       "    <tr>\n",
       "      <th>4</th>\n",
       "      <td>Happy</td>\n",
       "      <td>Relaxed</td>\n",
       "      <td>Euphoric</td>\n",
       "      <td>Uplifted</td>\n",
       "      <td>Talkative</td>\n",
       "    </tr>\n",
       "    <tr>\n",
       "      <th>...</th>\n",
       "      <td>...</td>\n",
       "      <td>...</td>\n",
       "      <td>...</td>\n",
       "      <td>...</td>\n",
       "      <td>...</td>\n",
       "    </tr>\n",
       "    <tr>\n",
       "      <th>2346</th>\n",
       "      <td>Happy</td>\n",
       "      <td>Uplifted</td>\n",
       "      <td>Relaxed</td>\n",
       "      <td>Euphoric</td>\n",
       "      <td>Energetic</td>\n",
       "    </tr>\n",
       "    <tr>\n",
       "      <th>2347</th>\n",
       "      <td>Relaxed</td>\n",
       "      <td>Happy</td>\n",
       "      <td>Euphoric</td>\n",
       "      <td>Uplifted</td>\n",
       "      <td>Sleepy</td>\n",
       "    </tr>\n",
       "    <tr>\n",
       "      <th>2348</th>\n",
       "      <td>Relaxed</td>\n",
       "      <td>Sleepy</td>\n",
       "      <td>Talkative</td>\n",
       "      <td>Euphoric</td>\n",
       "      <td>Happy</td>\n",
       "    </tr>\n",
       "    <tr>\n",
       "      <th>2349</th>\n",
       "      <td>Relaxed</td>\n",
       "      <td>Sleepy</td>\n",
       "      <td>Euphoric</td>\n",
       "      <td>Happy</td>\n",
       "      <td>Hungry</td>\n",
       "    </tr>\n",
       "    <tr>\n",
       "      <th>2350</th>\n",
       "      <td>Hungry</td>\n",
       "      <td>Relaxed</td>\n",
       "      <td>Uplifted</td>\n",
       "      <td>Happy</td>\n",
       "      <td>Sleepy</td>\n",
       "    </tr>\n",
       "  </tbody>\n",
       "</table>\n",
       "<p>2351 rows × 5 columns</p>\n",
       "</div>"
      ],
      "text/plain": [
       "     Effect_one Effect_two Effect_three Effect_four Effect_five\n",
       "0      Creative  Energetic       Tingly    Euphoric     Relaxed\n",
       "1       Relaxed    Aroused     Creative       Happy   Energetic\n",
       "2      Uplifted      Happy      Relaxed   Energetic    Creative\n",
       "3        Tingly   Creative       Hungry     Relaxed    Uplifted\n",
       "4         Happy    Relaxed     Euphoric    Uplifted   Talkative\n",
       "...         ...        ...          ...         ...         ...\n",
       "2346      Happy   Uplifted      Relaxed    Euphoric   Energetic\n",
       "2347    Relaxed      Happy     Euphoric    Uplifted      Sleepy\n",
       "2348    Relaxed     Sleepy    Talkative    Euphoric       Happy\n",
       "2349    Relaxed     Sleepy     Euphoric       Happy      Hungry\n",
       "2350     Hungry    Relaxed     Uplifted       Happy      Sleepy\n",
       "\n",
       "[2351 rows x 5 columns]"
      ]
     },
     "execution_count": 13,
     "metadata": {},
     "output_type": "execute_result"
    }
   ],
   "source": [
    "# Looking at the effects df:\n",
    "\n",
    "effects"
   ]
  },
  {
   "cell_type": "code",
   "execution_count": 14,
   "metadata": {},
   "outputs": [
    {
     "data": {
      "text/html": [
       "<div>\n",
       "<style scoped>\n",
       "    .dataframe tbody tr th:only-of-type {\n",
       "        vertical-align: middle;\n",
       "    }\n",
       "\n",
       "    .dataframe tbody tr th {\n",
       "        vertical-align: top;\n",
       "    }\n",
       "\n",
       "    .dataframe thead th {\n",
       "        text-align: right;\n",
       "    }\n",
       "</style>\n",
       "<table border=\"1\" class=\"dataframe\">\n",
       "  <thead>\n",
       "    <tr style=\"text-align: right;\">\n",
       "      <th></th>\n",
       "      <th>Flavor_one</th>\n",
       "      <th>Flavor_two</th>\n",
       "      <th>Flavor_three</th>\n",
       "    </tr>\n",
       "  </thead>\n",
       "  <tbody>\n",
       "    <tr>\n",
       "      <th>0</th>\n",
       "      <td>Earthy</td>\n",
       "      <td>Sweet</td>\n",
       "      <td>Citrus</td>\n",
       "    </tr>\n",
       "    <tr>\n",
       "      <th>1</th>\n",
       "      <td>Flowery</td>\n",
       "      <td>Violet</td>\n",
       "      <td>Diesel</td>\n",
       "    </tr>\n",
       "    <tr>\n",
       "      <th>2</th>\n",
       "      <td>Spicy/Herbal</td>\n",
       "      <td>Sage</td>\n",
       "      <td>Woody</td>\n",
       "    </tr>\n",
       "    <tr>\n",
       "      <th>3</th>\n",
       "      <td>Apricot</td>\n",
       "      <td>Citrus</td>\n",
       "      <td>Grapefruit</td>\n",
       "    </tr>\n",
       "    <tr>\n",
       "      <th>4</th>\n",
       "      <td>Citrus</td>\n",
       "      <td>Earthy</td>\n",
       "      <td>Orange</td>\n",
       "    </tr>\n",
       "    <tr>\n",
       "      <th>...</th>\n",
       "      <td>...</td>\n",
       "      <td>...</td>\n",
       "      <td>...</td>\n",
       "    </tr>\n",
       "    <tr>\n",
       "      <th>2346</th>\n",
       "      <td>Earthy</td>\n",
       "      <td>Woody</td>\n",
       "      <td>Pine</td>\n",
       "    </tr>\n",
       "    <tr>\n",
       "      <th>2347</th>\n",
       "      <td>Sweet</td>\n",
       "      <td>Berry</td>\n",
       "      <td>Grape</td>\n",
       "    </tr>\n",
       "    <tr>\n",
       "      <th>2348</th>\n",
       "      <td>Earthy</td>\n",
       "      <td>Sweet</td>\n",
       "      <td>Spicy/Herbal</td>\n",
       "    </tr>\n",
       "    <tr>\n",
       "      <th>2349</th>\n",
       "      <td>Sweet</td>\n",
       "      <td>Earthy</td>\n",
       "      <td>Pungent</td>\n",
       "    </tr>\n",
       "    <tr>\n",
       "      <th>2350</th>\n",
       "      <td>Berry</td>\n",
       "      <td>Earthy</td>\n",
       "      <td>Pungent</td>\n",
       "    </tr>\n",
       "  </tbody>\n",
       "</table>\n",
       "<p>2351 rows × 3 columns</p>\n",
       "</div>"
      ],
      "text/plain": [
       "        Flavor_one Flavor_two  Flavor_three\n",
       "0           Earthy      Sweet        Citrus\n",
       "1          Flowery     Violet        Diesel\n",
       "2     Spicy/Herbal       Sage         Woody\n",
       "3          Apricot     Citrus    Grapefruit\n",
       "4           Citrus     Earthy        Orange\n",
       "...            ...        ...           ...\n",
       "2346        Earthy      Woody          Pine\n",
       "2347         Sweet      Berry         Grape\n",
       "2348        Earthy      Sweet  Spicy/Herbal\n",
       "2349         Sweet     Earthy       Pungent\n",
       "2350         Berry     Earthy       Pungent\n",
       "\n",
       "[2351 rows x 3 columns]"
      ]
     },
     "execution_count": 14,
     "metadata": {},
     "output_type": "execute_result"
    }
   ],
   "source": [
    "# Looking at the flavors df:\n",
    "\n",
    "flavors"
   ]
  },
  {
   "cell_type": "code",
   "execution_count": 15,
   "metadata": {},
   "outputs": [],
   "source": [
    "# Making new df with effects and flavor separated:\n",
    "\n",
    "EF_df = pd.concat([df, flavors], axis=1)"
   ]
  },
  {
   "cell_type": "code",
   "execution_count": 16,
   "metadata": {},
   "outputs": [],
   "source": [
    "EF_df = pd.concat([EF_df, effects], axis=1)"
   ]
  },
  {
   "cell_type": "code",
   "execution_count": 17,
   "metadata": {},
   "outputs": [
    {
     "data": {
      "text/html": [
       "<div>\n",
       "<style scoped>\n",
       "    .dataframe tbody tr th:only-of-type {\n",
       "        vertical-align: middle;\n",
       "    }\n",
       "\n",
       "    .dataframe tbody tr th {\n",
       "        vertical-align: top;\n",
       "    }\n",
       "\n",
       "    .dataframe thead th {\n",
       "        text-align: right;\n",
       "    }\n",
       "</style>\n",
       "<table border=\"1\" class=\"dataframe\">\n",
       "  <thead>\n",
       "    <tr style=\"text-align: right;\">\n",
       "      <th></th>\n",
       "      <th>Strain</th>\n",
       "      <th>Type</th>\n",
       "      <th>Rating</th>\n",
       "      <th>Effects</th>\n",
       "      <th>Flavor</th>\n",
       "      <th>Description</th>\n",
       "      <th>Flavor_one</th>\n",
       "      <th>Flavor_two</th>\n",
       "      <th>Flavor_three</th>\n",
       "      <th>Effect_one</th>\n",
       "      <th>Effect_two</th>\n",
       "      <th>Effect_three</th>\n",
       "      <th>Effect_four</th>\n",
       "      <th>Effect_five</th>\n",
       "    </tr>\n",
       "  </thead>\n",
       "  <tbody>\n",
       "    <tr>\n",
       "      <th>0</th>\n",
       "      <td>100-Og</td>\n",
       "      <td>hybrid</td>\n",
       "      <td>4.0</td>\n",
       "      <td>Creative,Energetic,Tingly,Euphoric,Relaxed</td>\n",
       "      <td>Earthy,Sweet,Citrus</td>\n",
       "      <td>$100 OG is a 50/50 hybrid strain that packs a ...</td>\n",
       "      <td>Earthy</td>\n",
       "      <td>Sweet</td>\n",
       "      <td>Citrus</td>\n",
       "      <td>Creative</td>\n",
       "      <td>Energetic</td>\n",
       "      <td>Tingly</td>\n",
       "      <td>Euphoric</td>\n",
       "      <td>Relaxed</td>\n",
       "    </tr>\n",
       "    <tr>\n",
       "      <th>1</th>\n",
       "      <td>98-White-Widow</td>\n",
       "      <td>hybrid</td>\n",
       "      <td>4.7</td>\n",
       "      <td>Relaxed,Aroused,Creative,Happy,Energetic</td>\n",
       "      <td>Flowery,Violet,Diesel</td>\n",
       "      <td>The ‘98 Aloha White Widow is an especially pot...</td>\n",
       "      <td>Flowery</td>\n",
       "      <td>Violet</td>\n",
       "      <td>Diesel</td>\n",
       "      <td>Relaxed</td>\n",
       "      <td>Aroused</td>\n",
       "      <td>Creative</td>\n",
       "      <td>Happy</td>\n",
       "      <td>Energetic</td>\n",
       "    </tr>\n",
       "    <tr>\n",
       "      <th>2</th>\n",
       "      <td>1024</td>\n",
       "      <td>sativa</td>\n",
       "      <td>4.4</td>\n",
       "      <td>Uplifted,Happy,Relaxed,Energetic,Creative</td>\n",
       "      <td>Spicy/Herbal,Sage,Woody</td>\n",
       "      <td>1024 is a sativa-dominant hybrid bred in Spain...</td>\n",
       "      <td>Spicy/Herbal</td>\n",
       "      <td>Sage</td>\n",
       "      <td>Woody</td>\n",
       "      <td>Uplifted</td>\n",
       "      <td>Happy</td>\n",
       "      <td>Relaxed</td>\n",
       "      <td>Energetic</td>\n",
       "      <td>Creative</td>\n",
       "    </tr>\n",
       "    <tr>\n",
       "      <th>3</th>\n",
       "      <td>13-Dawgs</td>\n",
       "      <td>hybrid</td>\n",
       "      <td>4.2</td>\n",
       "      <td>Tingly,Creative,Hungry,Relaxed,Uplifted</td>\n",
       "      <td>Apricot,Citrus,Grapefruit</td>\n",
       "      <td>13 Dawgs is a hybrid of G13 and Chemdawg genet...</td>\n",
       "      <td>Apricot</td>\n",
       "      <td>Citrus</td>\n",
       "      <td>Grapefruit</td>\n",
       "      <td>Tingly</td>\n",
       "      <td>Creative</td>\n",
       "      <td>Hungry</td>\n",
       "      <td>Relaxed</td>\n",
       "      <td>Uplifted</td>\n",
       "    </tr>\n",
       "    <tr>\n",
       "      <th>4</th>\n",
       "      <td>24K-Gold</td>\n",
       "      <td>hybrid</td>\n",
       "      <td>4.6</td>\n",
       "      <td>Happy,Relaxed,Euphoric,Uplifted,Talkative</td>\n",
       "      <td>Citrus,Earthy,Orange</td>\n",
       "      <td>Also known as Kosher Tangie, 24k Gold is a 60%...</td>\n",
       "      <td>Citrus</td>\n",
       "      <td>Earthy</td>\n",
       "      <td>Orange</td>\n",
       "      <td>Happy</td>\n",
       "      <td>Relaxed</td>\n",
       "      <td>Euphoric</td>\n",
       "      <td>Uplifted</td>\n",
       "      <td>Talkative</td>\n",
       "    </tr>\n",
       "    <tr>\n",
       "      <th>...</th>\n",
       "      <td>...</td>\n",
       "      <td>...</td>\n",
       "      <td>...</td>\n",
       "      <td>...</td>\n",
       "      <td>...</td>\n",
       "      <td>...</td>\n",
       "      <td>...</td>\n",
       "      <td>...</td>\n",
       "      <td>...</td>\n",
       "      <td>...</td>\n",
       "      <td>...</td>\n",
       "      <td>...</td>\n",
       "      <td>...</td>\n",
       "      <td>...</td>\n",
       "    </tr>\n",
       "    <tr>\n",
       "      <th>2346</th>\n",
       "      <td>Zeus-Og</td>\n",
       "      <td>hybrid</td>\n",
       "      <td>4.7</td>\n",
       "      <td>Happy,Uplifted,Relaxed,Euphoric,Energetic</td>\n",
       "      <td>Earthy,Woody,Pine</td>\n",
       "      <td>Zeus OG is a hybrid cross between Pineapple OG...</td>\n",
       "      <td>Earthy</td>\n",
       "      <td>Woody</td>\n",
       "      <td>Pine</td>\n",
       "      <td>Happy</td>\n",
       "      <td>Uplifted</td>\n",
       "      <td>Relaxed</td>\n",
       "      <td>Euphoric</td>\n",
       "      <td>Energetic</td>\n",
       "    </tr>\n",
       "    <tr>\n",
       "      <th>2347</th>\n",
       "      <td>Zkittlez</td>\n",
       "      <td>indica</td>\n",
       "      <td>4.6</td>\n",
       "      <td>Relaxed,Happy,Euphoric,Uplifted,Sleepy</td>\n",
       "      <td>Sweet,Berry,Grape</td>\n",
       "      <td>Zkittlez is an indica-dominant mix of Grape Ap...</td>\n",
       "      <td>Sweet</td>\n",
       "      <td>Berry</td>\n",
       "      <td>Grape</td>\n",
       "      <td>Relaxed</td>\n",
       "      <td>Happy</td>\n",
       "      <td>Euphoric</td>\n",
       "      <td>Uplifted</td>\n",
       "      <td>Sleepy</td>\n",
       "    </tr>\n",
       "    <tr>\n",
       "      <th>2348</th>\n",
       "      <td>Zombie-Kush</td>\n",
       "      <td>indica</td>\n",
       "      <td>5.0</td>\n",
       "      <td>Relaxed,Sleepy,Talkative,Euphoric,Happy</td>\n",
       "      <td>Earthy,Sweet,Spicy/Herbal</td>\n",
       "      <td>Zombie Kush by Ripper Seeds comes from two dif...</td>\n",
       "      <td>Earthy</td>\n",
       "      <td>Sweet</td>\n",
       "      <td>Spicy/Herbal</td>\n",
       "      <td>Relaxed</td>\n",
       "      <td>Sleepy</td>\n",
       "      <td>Talkative</td>\n",
       "      <td>Euphoric</td>\n",
       "      <td>Happy</td>\n",
       "    </tr>\n",
       "    <tr>\n",
       "      <th>2349</th>\n",
       "      <td>Zombie-Og</td>\n",
       "      <td>indica</td>\n",
       "      <td>4.4</td>\n",
       "      <td>Relaxed,Sleepy,Euphoric,Happy,Hungry</td>\n",
       "      <td>Sweet,Earthy,Pungent</td>\n",
       "      <td>If you’re looking to transform into a flesh-ea...</td>\n",
       "      <td>Sweet</td>\n",
       "      <td>Earthy</td>\n",
       "      <td>Pungent</td>\n",
       "      <td>Relaxed</td>\n",
       "      <td>Sleepy</td>\n",
       "      <td>Euphoric</td>\n",
       "      <td>Happy</td>\n",
       "      <td>Hungry</td>\n",
       "    </tr>\n",
       "    <tr>\n",
       "      <th>2350</th>\n",
       "      <td>Zoom-Pie</td>\n",
       "      <td>indica</td>\n",
       "      <td>4.6</td>\n",
       "      <td>Hungry,Relaxed,Uplifted,Happy,Sleepy</td>\n",
       "      <td>Berry,Earthy,Pungent</td>\n",
       "      <td>Zoom Pie (also known as Zombie Pie) is a heavy...</td>\n",
       "      <td>Berry</td>\n",
       "      <td>Earthy</td>\n",
       "      <td>Pungent</td>\n",
       "      <td>Hungry</td>\n",
       "      <td>Relaxed</td>\n",
       "      <td>Uplifted</td>\n",
       "      <td>Happy</td>\n",
       "      <td>Sleepy</td>\n",
       "    </tr>\n",
       "  </tbody>\n",
       "</table>\n",
       "<p>2351 rows × 14 columns</p>\n",
       "</div>"
      ],
      "text/plain": [
       "              Strain    Type  Rating  \\\n",
       "0             100-Og  hybrid     4.0   \n",
       "1     98-White-Widow  hybrid     4.7   \n",
       "2               1024  sativa     4.4   \n",
       "3           13-Dawgs  hybrid     4.2   \n",
       "4           24K-Gold  hybrid     4.6   \n",
       "...              ...     ...     ...   \n",
       "2346         Zeus-Og  hybrid     4.7   \n",
       "2347        Zkittlez  indica     4.6   \n",
       "2348     Zombie-Kush  indica     5.0   \n",
       "2349       Zombie-Og  indica     4.4   \n",
       "2350        Zoom-Pie  indica     4.6   \n",
       "\n",
       "                                         Effects                     Flavor  \\\n",
       "0     Creative,Energetic,Tingly,Euphoric,Relaxed        Earthy,Sweet,Citrus   \n",
       "1       Relaxed,Aroused,Creative,Happy,Energetic      Flowery,Violet,Diesel   \n",
       "2      Uplifted,Happy,Relaxed,Energetic,Creative    Spicy/Herbal,Sage,Woody   \n",
       "3        Tingly,Creative,Hungry,Relaxed,Uplifted  Apricot,Citrus,Grapefruit   \n",
       "4      Happy,Relaxed,Euphoric,Uplifted,Talkative       Citrus,Earthy,Orange   \n",
       "...                                          ...                        ...   \n",
       "2346   Happy,Uplifted,Relaxed,Euphoric,Energetic          Earthy,Woody,Pine   \n",
       "2347      Relaxed,Happy,Euphoric,Uplifted,Sleepy          Sweet,Berry,Grape   \n",
       "2348     Relaxed,Sleepy,Talkative,Euphoric,Happy  Earthy,Sweet,Spicy/Herbal   \n",
       "2349        Relaxed,Sleepy,Euphoric,Happy,Hungry       Sweet,Earthy,Pungent   \n",
       "2350        Hungry,Relaxed,Uplifted,Happy,Sleepy       Berry,Earthy,Pungent   \n",
       "\n",
       "                                            Description    Flavor_one  \\\n",
       "0     $100 OG is a 50/50 hybrid strain that packs a ...        Earthy   \n",
       "1     The ‘98 Aloha White Widow is an especially pot...       Flowery   \n",
       "2     1024 is a sativa-dominant hybrid bred in Spain...  Spicy/Herbal   \n",
       "3     13 Dawgs is a hybrid of G13 and Chemdawg genet...       Apricot   \n",
       "4     Also known as Kosher Tangie, 24k Gold is a 60%...        Citrus   \n",
       "...                                                 ...           ...   \n",
       "2346  Zeus OG is a hybrid cross between Pineapple OG...        Earthy   \n",
       "2347  Zkittlez is an indica-dominant mix of Grape Ap...         Sweet   \n",
       "2348  Zombie Kush by Ripper Seeds comes from two dif...        Earthy   \n",
       "2349  If you’re looking to transform into a flesh-ea...         Sweet   \n",
       "2350  Zoom Pie (also known as Zombie Pie) is a heavy...         Berry   \n",
       "\n",
       "     Flavor_two  Flavor_three Effect_one Effect_two Effect_three Effect_four  \\\n",
       "0         Sweet        Citrus   Creative  Energetic       Tingly    Euphoric   \n",
       "1        Violet        Diesel    Relaxed    Aroused     Creative       Happy   \n",
       "2          Sage         Woody   Uplifted      Happy      Relaxed   Energetic   \n",
       "3        Citrus    Grapefruit     Tingly   Creative       Hungry     Relaxed   \n",
       "4        Earthy        Orange      Happy    Relaxed     Euphoric    Uplifted   \n",
       "...         ...           ...        ...        ...          ...         ...   \n",
       "2346      Woody          Pine      Happy   Uplifted      Relaxed    Euphoric   \n",
       "2347      Berry         Grape    Relaxed      Happy     Euphoric    Uplifted   \n",
       "2348      Sweet  Spicy/Herbal    Relaxed     Sleepy    Talkative    Euphoric   \n",
       "2349     Earthy       Pungent    Relaxed     Sleepy     Euphoric       Happy   \n",
       "2350     Earthy       Pungent     Hungry    Relaxed     Uplifted       Happy   \n",
       "\n",
       "     Effect_five  \n",
       "0        Relaxed  \n",
       "1      Energetic  \n",
       "2       Creative  \n",
       "3       Uplifted  \n",
       "4      Talkative  \n",
       "...          ...  \n",
       "2346   Energetic  \n",
       "2347      Sleepy  \n",
       "2348       Happy  \n",
       "2349      Hungry  \n",
       "2350      Sleepy  \n",
       "\n",
       "[2351 rows x 14 columns]"
      ]
     },
     "execution_count": 17,
     "metadata": {},
     "output_type": "execute_result"
    }
   ],
   "source": [
    "# Looking at new dataframe:\n",
    "\n",
    "EF_df"
   ]
  },
  {
   "cell_type": "code",
   "execution_count": 18,
   "metadata": {},
   "outputs": [
    {
     "data": {
      "text/plain": [
       "Index(['Strain', 'Type', 'Rating', 'Effects', 'Flavor', 'Description',\n",
       "       'Flavor_one', 'Flavor_two', 'Flavor_three', 'Effect_one', 'Effect_two',\n",
       "       'Effect_three', 'Effect_four', 'Effect_five'],\n",
       "      dtype='object')"
      ]
     },
     "execution_count": 18,
     "metadata": {},
     "output_type": "execute_result"
    }
   ],
   "source": [
    "# List of columns in new df:\n",
    "\n",
    "EF_df.columns"
   ]
  },
  {
   "cell_type": "markdown",
   "metadata": {},
   "source": [
    "### Reviewing Cannabis and Kushy datasets"
   ]
  },
  {
   "cell_type": "code",
   "execution_count": 19,
   "metadata": {},
   "outputs": [],
   "source": [
    "# Import the datasets via URL:\n",
    "\n",
    "cannabis_csv_url = 'https://raw.githubusercontent.com/med-cabinet-5/data-science/master/data/cannabis.csv'\n",
    "kushy_strains_csv_url = 'https://raw.githubusercontent.com/kushyapp/cannabis-dataset/master/Dataset/Strains/strains-kushy_api.2017-11-14.csv'"
   ]
  },
  {
   "cell_type": "code",
   "execution_count": 20,
   "metadata": {},
   "outputs": [],
   "source": [
    "# Turn them into a dataframe:\n",
    "\n",
    "cannabis = pd.read_csv(cannabis_csv_url)\n",
    "kushy = pd.read_csv(kushy_strains_csv_url)"
   ]
  },
  {
   "cell_type": "code",
   "execution_count": 21,
   "metadata": {},
   "outputs": [
    {
     "data": {
      "text/html": [
       "<div>\n",
       "<style scoped>\n",
       "    .dataframe tbody tr th:only-of-type {\n",
       "        vertical-align: middle;\n",
       "    }\n",
       "\n",
       "    .dataframe tbody tr th {\n",
       "        vertical-align: top;\n",
       "    }\n",
       "\n",
       "    .dataframe thead th {\n",
       "        text-align: right;\n",
       "    }\n",
       "</style>\n",
       "<table border=\"1\" class=\"dataframe\">\n",
       "  <thead>\n",
       "    <tr style=\"text-align: right;\">\n",
       "      <th></th>\n",
       "      <th>Strain</th>\n",
       "      <th>Type</th>\n",
       "      <th>Rating</th>\n",
       "      <th>Effects</th>\n",
       "      <th>Flavor</th>\n",
       "      <th>Description</th>\n",
       "    </tr>\n",
       "  </thead>\n",
       "  <tbody>\n",
       "    <tr>\n",
       "      <th>0</th>\n",
       "      <td>100-Og</td>\n",
       "      <td>hybrid</td>\n",
       "      <td>4.0</td>\n",
       "      <td>Creative,Energetic,Tingly,Euphoric,Relaxed</td>\n",
       "      <td>Earthy,Sweet,Citrus</td>\n",
       "      <td>$100 OG is a 50/50 hybrid strain that packs a ...</td>\n",
       "    </tr>\n",
       "    <tr>\n",
       "      <th>1</th>\n",
       "      <td>98-White-Widow</td>\n",
       "      <td>hybrid</td>\n",
       "      <td>4.7</td>\n",
       "      <td>Relaxed,Aroused,Creative,Happy,Energetic</td>\n",
       "      <td>Flowery,Violet,Diesel</td>\n",
       "      <td>The ‘98 Aloha White Widow is an especially pot...</td>\n",
       "    </tr>\n",
       "    <tr>\n",
       "      <th>2</th>\n",
       "      <td>1024</td>\n",
       "      <td>sativa</td>\n",
       "      <td>4.4</td>\n",
       "      <td>Uplifted,Happy,Relaxed,Energetic,Creative</td>\n",
       "      <td>Spicy/Herbal,Sage,Woody</td>\n",
       "      <td>1024 is a sativa-dominant hybrid bred in Spain...</td>\n",
       "    </tr>\n",
       "    <tr>\n",
       "      <th>3</th>\n",
       "      <td>13-Dawgs</td>\n",
       "      <td>hybrid</td>\n",
       "      <td>4.2</td>\n",
       "      <td>Tingly,Creative,Hungry,Relaxed,Uplifted</td>\n",
       "      <td>Apricot,Citrus,Grapefruit</td>\n",
       "      <td>13 Dawgs is a hybrid of G13 and Chemdawg genet...</td>\n",
       "    </tr>\n",
       "    <tr>\n",
       "      <th>4</th>\n",
       "      <td>24K-Gold</td>\n",
       "      <td>hybrid</td>\n",
       "      <td>4.6</td>\n",
       "      <td>Happy,Relaxed,Euphoric,Uplifted,Talkative</td>\n",
       "      <td>Citrus,Earthy,Orange</td>\n",
       "      <td>Also known as Kosher Tangie, 24k Gold is a 60%...</td>\n",
       "    </tr>\n",
       "  </tbody>\n",
       "</table>\n",
       "</div>"
      ],
      "text/plain": [
       "           Strain    Type  Rating                                     Effects  \\\n",
       "0          100-Og  hybrid     4.0  Creative,Energetic,Tingly,Euphoric,Relaxed   \n",
       "1  98-White-Widow  hybrid     4.7    Relaxed,Aroused,Creative,Happy,Energetic   \n",
       "2            1024  sativa     4.4   Uplifted,Happy,Relaxed,Energetic,Creative   \n",
       "3        13-Dawgs  hybrid     4.2     Tingly,Creative,Hungry,Relaxed,Uplifted   \n",
       "4        24K-Gold  hybrid     4.6   Happy,Relaxed,Euphoric,Uplifted,Talkative   \n",
       "\n",
       "                      Flavor  \\\n",
       "0        Earthy,Sweet,Citrus   \n",
       "1      Flowery,Violet,Diesel   \n",
       "2    Spicy/Herbal,Sage,Woody   \n",
       "3  Apricot,Citrus,Grapefruit   \n",
       "4       Citrus,Earthy,Orange   \n",
       "\n",
       "                                         Description  \n",
       "0  $100 OG is a 50/50 hybrid strain that packs a ...  \n",
       "1  The ‘98 Aloha White Widow is an especially pot...  \n",
       "2  1024 is a sativa-dominant hybrid bred in Spain...  \n",
       "3  13 Dawgs is a hybrid of G13 and Chemdawg genet...  \n",
       "4  Also known as Kosher Tangie, 24k Gold is a 60%...  "
      ]
     },
     "execution_count": 21,
     "metadata": {},
     "output_type": "execute_result"
    }
   ],
   "source": [
    "# Looking at Cannabis:\n",
    "\n",
    "cannabis.head(5)"
   ]
  },
  {
   "cell_type": "code",
   "execution_count": 22,
   "metadata": {},
   "outputs": [
    {
     "data": {
      "text/html": [
       "<div>\n",
       "<style scoped>\n",
       "    .dataframe tbody tr th:only-of-type {\n",
       "        vertical-align: middle;\n",
       "    }\n",
       "\n",
       "    .dataframe tbody tr th {\n",
       "        vertical-align: top;\n",
       "    }\n",
       "\n",
       "    .dataframe thead th {\n",
       "        text-align: right;\n",
       "    }\n",
       "</style>\n",
       "<table border=\"1\" class=\"dataframe\">\n",
       "  <thead>\n",
       "    <tr style=\"text-align: right;\">\n",
       "      <th></th>\n",
       "      <th>id</th>\n",
       "      <th>status</th>\n",
       "      <th>sort</th>\n",
       "      <th>name</th>\n",
       "      <th>slug</th>\n",
       "      <th>image</th>\n",
       "      <th>description</th>\n",
       "      <th>type</th>\n",
       "      <th>crosses</th>\n",
       "      <th>breeder</th>\n",
       "      <th>...</th>\n",
       "      <th>cbn</th>\n",
       "      <th>cbg</th>\n",
       "      <th>cbgm</th>\n",
       "      <th>cbgv</th>\n",
       "      <th>cbc</th>\n",
       "      <th>cbcv</th>\n",
       "      <th>cbv</th>\n",
       "      <th>cbe</th>\n",
       "      <th>cbt</th>\n",
       "      <th>cbl</th>\n",
       "    </tr>\n",
       "  </thead>\n",
       "  <tbody>\n",
       "    <tr>\n",
       "      <th>0</th>\n",
       "      <td>1</td>\n",
       "      <td>1</td>\n",
       "      <td>0</td>\n",
       "      <td>100 OG</td>\n",
       "      <td>NaN</td>\n",
       "      <td>NaN</td>\n",
       "      <td>&lt;p&gt;This strain is named after it's high price ...</td>\n",
       "      <td>Hybrid</td>\n",
       "      <td>NaN</td>\n",
       "      <td>Old School Breeder's Association</td>\n",
       "      <td>...</td>\n",
       "      <td>10</td>\n",
       "      <td>0.0</td>\n",
       "      <td>0.0</td>\n",
       "      <td>0.0</td>\n",
       "      <td>0.0</td>\n",
       "      <td>0.0</td>\n",
       "      <td>0.0</td>\n",
       "      <td>0.0</td>\n",
       "      <td>0.0</td>\n",
       "      <td>0.0</td>\n",
       "    </tr>\n",
       "    <tr>\n",
       "      <th>1</th>\n",
       "      <td>2</td>\n",
       "      <td>1</td>\n",
       "      <td>0</td>\n",
       "      <td>707 Headband</td>\n",
       "      <td>NaN</td>\n",
       "      <td>NaN</td>\n",
       "      <td>NaN</td>\n",
       "      <td>Hybrid</td>\n",
       "      <td>378,272</td>\n",
       "      <td>Unknown Breeder</td>\n",
       "      <td>...</td>\n",
       "      <td>0</td>\n",
       "      <td>NaN</td>\n",
       "      <td>NaN</td>\n",
       "      <td>NaN</td>\n",
       "      <td>NaN</td>\n",
       "      <td>NaN</td>\n",
       "      <td>NaN</td>\n",
       "      <td>NaN</td>\n",
       "      <td>NaN</td>\n",
       "      <td>NaN</td>\n",
       "    </tr>\n",
       "    <tr>\n",
       "      <th>2</th>\n",
       "      <td>3</td>\n",
       "      <td>1</td>\n",
       "      <td>0</td>\n",
       "      <td>A-10</td>\n",
       "      <td>NaN</td>\n",
       "      <td>NaN</td>\n",
       "      <td>NaN</td>\n",
       "      <td>Indica</td>\n",
       "      <td>0</td>\n",
       "      <td>NaN</td>\n",
       "      <td>...</td>\n",
       "      <td>0</td>\n",
       "      <td>NaN</td>\n",
       "      <td>NaN</td>\n",
       "      <td>NaN</td>\n",
       "      <td>NaN</td>\n",
       "      <td>NaN</td>\n",
       "      <td>NaN</td>\n",
       "      <td>NaN</td>\n",
       "      <td>NaN</td>\n",
       "      <td>NaN</td>\n",
       "    </tr>\n",
       "    <tr>\n",
       "      <th>3</th>\n",
       "      <td>4</td>\n",
       "      <td>1</td>\n",
       "      <td>0</td>\n",
       "      <td>Acapulco Gold</td>\n",
       "      <td>NaN</td>\n",
       "      <td>NaN</td>\n",
       "      <td>NaN</td>\n",
       "      <td>Sativa</td>\n",
       "      <td>0</td>\n",
       "      <td>NaN</td>\n",
       "      <td>...</td>\n",
       "      <td>0</td>\n",
       "      <td>NaN</td>\n",
       "      <td>NaN</td>\n",
       "      <td>NaN</td>\n",
       "      <td>NaN</td>\n",
       "      <td>NaN</td>\n",
       "      <td>NaN</td>\n",
       "      <td>NaN</td>\n",
       "      <td>NaN</td>\n",
       "      <td>NaN</td>\n",
       "    </tr>\n",
       "    <tr>\n",
       "      <th>4</th>\n",
       "      <td>5</td>\n",
       "      <td>1</td>\n",
       "      <td>0</td>\n",
       "      <td>Afghani Bullrider</td>\n",
       "      <td>NaN</td>\n",
       "      <td>NaN</td>\n",
       "      <td>NaN</td>\n",
       "      <td>Hybrid</td>\n",
       "      <td>0</td>\n",
       "      <td>Unknown Breeder</td>\n",
       "      <td>...</td>\n",
       "      <td>0</td>\n",
       "      <td>NaN</td>\n",
       "      <td>NaN</td>\n",
       "      <td>NaN</td>\n",
       "      <td>NaN</td>\n",
       "      <td>NaN</td>\n",
       "      <td>NaN</td>\n",
       "      <td>NaN</td>\n",
       "      <td>NaN</td>\n",
       "      <td>NaN</td>\n",
       "    </tr>\n",
       "  </tbody>\n",
       "</table>\n",
       "<p>5 rows × 31 columns</p>\n",
       "</div>"
      ],
      "text/plain": [
       "   id  status  sort               name  slug  image  \\\n",
       "0   1       1     0             100 OG   NaN    NaN   \n",
       "1   2       1     0       707 Headband   NaN    NaN   \n",
       "2   3       1     0               A-10   NaN    NaN   \n",
       "3   4       1     0      Acapulco Gold   NaN    NaN   \n",
       "4   5       1     0  Afghani Bullrider   NaN    NaN   \n",
       "\n",
       "                                         description    type  crosses  \\\n",
       "0  <p>This strain is named after it's high price ...  Hybrid      NaN   \n",
       "1                                                NaN  Hybrid  378,272   \n",
       "2                                                NaN  Indica        0   \n",
       "3                                                NaN  Sativa        0   \n",
       "4                                                NaN  Hybrid        0   \n",
       "\n",
       "                            breeder  ... cbn  cbg cbgm cbgv  cbc  cbcv  cbv  \\\n",
       "0  Old School Breeder's Association  ...  10  0.0  0.0  0.0  0.0   0.0  0.0   \n",
       "1                   Unknown Breeder  ...   0  NaN  NaN  NaN  NaN   NaN  NaN   \n",
       "2                               NaN  ...   0  NaN  NaN  NaN  NaN   NaN  NaN   \n",
       "3                               NaN  ...   0  NaN  NaN  NaN  NaN   NaN  NaN   \n",
       "4                   Unknown Breeder  ...   0  NaN  NaN  NaN  NaN   NaN  NaN   \n",
       "\n",
       "   cbe  cbt  cbl  \n",
       "0  0.0  0.0  0.0  \n",
       "1  NaN  NaN  NaN  \n",
       "2  NaN  NaN  NaN  \n",
       "3  NaN  NaN  NaN  \n",
       "4  NaN  NaN  NaN  \n",
       "\n",
       "[5 rows x 31 columns]"
      ]
     },
     "execution_count": 22,
     "metadata": {},
     "output_type": "execute_result"
    }
   ],
   "source": [
    "# Looking at Kushy:\n",
    "\n",
    "kushy.head(5)"
   ]
  },
  {
   "cell_type": "code",
   "execution_count": 23,
   "metadata": {},
   "outputs": [
    {
     "data": {
      "text/plain": [
       "id                0\n",
       "status            0\n",
       "sort              0\n",
       "name              1\n",
       "slug           9524\n",
       "image          9524\n",
       "description    9523\n",
       "type             24\n",
       "crosses        8960\n",
       "breeder         545\n",
       "effects        8509\n",
       "ailment        8553\n",
       "flavor         8553\n",
       "location       8903\n",
       "terpenes       9523\n",
       "thc               0\n",
       "thca            889\n",
       "thcv            889\n",
       "cbd               0\n",
       "cbda            889\n",
       "cbdv            889\n",
       "cbn               0\n",
       "cbg             889\n",
       "cbgm            889\n",
       "cbgv            889\n",
       "cbc             889\n",
       "cbcv            889\n",
       "cbv             889\n",
       "cbe             889\n",
       "cbt             889\n",
       "cbl             889\n",
       "dtype: int64"
      ]
     },
     "execution_count": 23,
     "metadata": {},
     "output_type": "execute_result"
    }
   ],
   "source": [
    "# Looking for NaN in kushy:\n",
    "\n",
    "kushy.isnull().sum()"
   ]
  },
  {
   "cell_type": "markdown",
   "metadata": {},
   "source": [
    "#### The above information is for chemical analysis and such, (which is not needed), but it provides plenty of ailment observations (which can be used)"
   ]
  },
  {
   "cell_type": "code",
   "execution_count": 24,
   "metadata": {},
   "outputs": [
    {
     "data": {
      "text/plain": [
       "Strain          0\n",
       "Type            0\n",
       "Rating          0\n",
       "Effects         0\n",
       "Flavor         46\n",
       "Description    33\n",
       "dtype: int64"
      ]
     },
     "execution_count": 24,
     "metadata": {},
     "output_type": "execute_result"
    }
   ],
   "source": [
    "# Looking at NaN in Cannabis:\n",
    "\n",
    "cannabis.isnull().sum()"
   ]
  },
  {
   "cell_type": "code",
   "execution_count": 25,
   "metadata": {},
   "outputs": [],
   "source": [
    "# Let's drop those NaN values, shall we:\n",
    "\n",
    "cannabis = cannabis.dropna(subset=['Flavor', 'Description'])"
   ]
  },
  {
   "cell_type": "code",
   "execution_count": 26,
   "metadata": {},
   "outputs": [],
   "source": [
    "# Name and ailment from kushy seems to be the only data we would want:\n",
    "\n",
    "kushy_clean = kushy[['name', 'ailment']]"
   ]
  },
  {
   "cell_type": "code",
   "execution_count": 27,
   "metadata": {},
   "outputs": [
    {
     "data": {
      "text/plain": [
       "name          1\n",
       "ailment    8553\n",
       "dtype: int64"
      ]
     },
     "execution_count": 27,
     "metadata": {},
     "output_type": "execute_result"
    }
   ],
   "source": [
    "# Looking at NaN in cleaned kushy df:\n",
    "\n",
    "kushy_clean.isnull().sum()"
   ]
  },
  {
   "cell_type": "code",
   "execution_count": 28,
   "metadata": {},
   "outputs": [],
   "source": [
    "# Let's drop those NaN values as well:\n",
    "\n",
    "kushy_clean = kushy_clean.dropna()"
   ]
  },
  {
   "cell_type": "code",
   "execution_count": 29,
   "metadata": {},
   "outputs": [],
   "source": [
    "# Merge the data of cannabis and kushy:\n",
    "\n",
    "merged = pd.merge(cannabis, kushy_clean, left_on='Strain', right_on='name', how='left')"
   ]
  },
  {
   "cell_type": "code",
   "execution_count": 30,
   "metadata": {},
   "outputs": [],
   "source": [
    "# Dropping the rating column so to leave only strings in the df:\n",
    "\n",
    "merged_strings = merged.drop(['Rating'], axis=1)"
   ]
  },
  {
   "cell_type": "code",
   "execution_count": 31,
   "metadata": {},
   "outputs": [],
   "source": [
    "# Filling NaN values with '':\n",
    "\n",
    "merged_strings = merged_strings.fillna('')"
   ]
  },
  {
   "cell_type": "code",
   "execution_count": 32,
   "metadata": {},
   "outputs": [
    {
     "data": {
      "text/plain": [
       "Strain         0\n",
       "Type           0\n",
       "Effects        0\n",
       "Flavor         0\n",
       "Description    0\n",
       "name           0\n",
       "ailment        0\n",
       "dtype: int64"
      ]
     },
     "execution_count": 32,
     "metadata": {},
     "output_type": "execute_result"
    }
   ],
   "source": [
    "# Verifying there are no more NaNs:\n",
    "\n",
    "merged_strings.isnull().sum()"
   ]
  },
  {
   "cell_type": "code",
   "execution_count": 33,
   "metadata": {},
   "outputs": [
    {
     "data": {
      "text/plain": [
       "Strain         object\n",
       "Type           object\n",
       "Effects        object\n",
       "Flavor         object\n",
       "Description    object\n",
       "name           object\n",
       "ailment        object\n",
       "dtype: object"
      ]
     },
     "execution_count": 33,
     "metadata": {},
     "output_type": "execute_result"
    }
   ],
   "source": [
    "# Looking at the data types:\n",
    "\n",
    "merged_strings.dtypes"
   ]
  },
  {
   "cell_type": "code",
   "execution_count": 34,
   "metadata": {},
   "outputs": [],
   "source": [
    "# Concatenating all of the text for NLP processing:\n",
    "\n",
    "merged_strings['all_text'] = merged_strings.apply(lambda x: ' '.join(x), axis=1)"
   ]
  },
  {
   "cell_type": "code",
   "execution_count": 35,
   "metadata": {},
   "outputs": [
    {
     "data": {
      "text/plain": [
       "'98-White-Widow hybrid Relaxed,Aroused,Creative,Happy,Energetic Flowery,Violet,Diesel The ‘98 Aloha White Widow is an especially potent cut of White Widow that has grown in renown alongside Hawaiian legends like Maui Wowie and Kona Gold. This White Widow phenotype reeks of diesel and skunk and has a rich earthy taste with intermittent notes of hash. Its buds are coated in trichomes, giving its dark foliage a lustrous glint to go along with its room-filling odor. This one-hitter-quitter uplifts the mind with mind-bending euphoria that materializes in the body as airy relaxation. ‘98 Aloha White Widow is available from Pua Mana 1st Hawaiian Pakalōlō Seed Bank. \\xa0  '"
      ]
     },
     "execution_count": 35,
     "metadata": {},
     "output_type": "execute_result"
    }
   ],
   "source": [
    "# Looking at a few examples of all_text:\n",
    "\n",
    "merged_strings['all_text'][1]"
   ]
  },
  {
   "cell_type": "code",
   "execution_count": 36,
   "metadata": {},
   "outputs": [
    {
     "data": {
      "text/plain": [
       "'818-Og indica Relaxed,Happy,Euphoric,Giggly,Sleepy Earthy,Diesel,Flowery Named after the telephone area code of the San Fernando Valley in Los Angeles, 818 OG is an OG Kush strain popular with patients for treating pain, loss of appetite, and insomnia. Not to be confused with the other OG cut named for the locale, the 818 OG has a very fruity flavor that is quite different from the sour, earthy fuel taste found in the SFV OG.\\xa0  '"
      ]
     },
     "execution_count": 36,
     "metadata": {},
     "output_type": "execute_result"
    }
   ],
   "source": [
    "merged_strings['all_text'][15]"
   ]
  },
  {
   "cell_type": "markdown",
   "metadata": {},
   "source": [
    "## NLP Model"
   ]
  },
  {
   "cell_type": "code",
   "execution_count": 37,
   "metadata": {},
   "outputs": [],
   "source": [
    "# Imports for NLP model:\n",
    "\n",
    "import spacy\n",
    "from sklearn.feature_extraction.text import TfidfVectorizer"
   ]
  },
  {
   "cell_type": "code",
   "execution_count": 38,
   "metadata": {},
   "outputs": [],
   "source": [
    "# Instantiating the large English library:\n",
    "\n",
    "nlp = spacy.load(\"en_core_web_lg\")"
   ]
  },
  {
   "cell_type": "code",
   "execution_count": 39,
   "metadata": {},
   "outputs": [],
   "source": [
    "# Creating a function to tokenize/lemmatize:\n",
    "\n",
    "def lemmatize(text):\n",
    "    \"\"\"\n",
    "    This function will tokenize the strings, and then returns\n",
    "    a list of lemmas.\n",
    "    \"\"\"\n",
    "    lemmas = []\n",
    "    processed = nlp(text)\n",
    "    \n",
    "    for token in processed:\n",
    "        if ((token.is_stop == False) and (token.is_punct == False)) and (token.pos_!= 'PRON'):\n",
    "            lemmas.append(token.lemma_)\n",
    "    return ' '.join(lemmas)"
   ]
  },
  {
   "cell_type": "code",
   "execution_count": 40,
   "metadata": {},
   "outputs": [],
   "source": [
    "# Updating merged_strings with lemmas:\n",
    "\n",
    "merged_strings['lemmas'] = merged_strings['all_text'].apply(lemmatize)"
   ]
  },
  {
   "cell_type": "code",
   "execution_count": 41,
   "metadata": {},
   "outputs": [
    {
     "data": {
      "text/plain": [
       "'98-white Widow hybrid Relaxed aroused Creative happy Energetic Flowery Violet Diesel 98 Aloha White Widow especially potent cut White Widow grow renown alongside hawaiian legend like Maui Wowie Kona Gold White Widow phenotype reeks diesel skunk rich earthy taste intermittent note hash bud coat trichome give dark foliage lustrous glint room fill odor hitter quitter uplift mind mind bend euphoria materialize body airy relaxation 98 Aloha White Widow available Pua Mana 1st Hawaiian Pakalōlō Seed Bank \\xa0  '"
      ]
     },
     "execution_count": 41,
     "metadata": {},
     "output_type": "execute_result"
    }
   ],
   "source": [
    "# Looking at previous examples, but now lemmatized:\n",
    "\n",
    "merged_strings['lemmas'][1]"
   ]
  },
  {
   "cell_type": "code",
   "execution_count": 42,
   "metadata": {},
   "outputs": [
    {
     "data": {
      "text/plain": [
       "'818-Og indica Relaxed happy euphoric giggly Sleepy Earthy Diesel Flowery name telephone area code San Fernando Valley Los Angeles 818 OG OG Kush strain popular patient treat pain loss appetite insomnia confuse OG cut name locale 818 OG fruity flavor different sour earthy fuel taste find SFV OG \\xa0  '"
      ]
     },
     "execution_count": 42,
     "metadata": {},
     "output_type": "execute_result"
    }
   ],
   "source": [
    "merged_strings['lemmas'][15]"
   ]
  },
  {
   "cell_type": "code",
   "execution_count": 43,
   "metadata": {},
   "outputs": [],
   "source": [
    "# Transforming text to feature vectors with english stop words:\n",
    "\n",
    "vectorized = TfidfVectorizer(stop_words=\"english\", min_df=0.025, max_df=0.98, ngram_range=(1,3))"
   ]
  },
  {
   "cell_type": "code",
   "execution_count": 44,
   "metadata": {},
   "outputs": [],
   "source": [
    "# Building document term matrix:\n",
    "\n",
    "dtm = vectorized.fit_transform(merged_strings['lemmas'])"
   ]
  },
  {
   "cell_type": "code",
   "execution_count": 45,
   "metadata": {},
   "outputs": [],
   "source": [
    "# Creating a dataframe out of it:\n",
    "\n",
    "dtm = pd.DataFrame(dtm.todense(), columns=vectorized.get_feature_names()) "
   ]
  },
  {
   "cell_type": "code",
   "execution_count": 46,
   "metadata": {},
   "outputs": [
    {
     "data": {
      "text/html": [
       "<div>\n",
       "<style scoped>\n",
       "    .dataframe tbody tr th:only-of-type {\n",
       "        vertical-align: middle;\n",
       "    }\n",
       "\n",
       "    .dataframe tbody tr th {\n",
       "        vertical-align: top;\n",
       "    }\n",
       "\n",
       "    .dataframe thead th {\n",
       "        text-align: right;\n",
       "    }\n",
       "</style>\n",
       "<table border=\"1\" class=\"dataframe\">\n",
       "  <thead>\n",
       "    <tr style=\"text-align: right;\">\n",
       "      <th></th>\n",
       "      <th>10</th>\n",
       "      <th>10 week</th>\n",
       "      <th>1st</th>\n",
       "      <th>20</th>\n",
       "      <th>50</th>\n",
       "      <th>60</th>\n",
       "      <th>70</th>\n",
       "      <th>80</th>\n",
       "      <th>active</th>\n",
       "      <th>activity</th>\n",
       "      <th>...</th>\n",
       "      <th>user</th>\n",
       "      <th>variety</th>\n",
       "      <th>way</th>\n",
       "      <th>week</th>\n",
       "      <th>white</th>\n",
       "      <th>white widow</th>\n",
       "      <th>widow</th>\n",
       "      <th>win</th>\n",
       "      <th>woody</th>\n",
       "      <th>yield</th>\n",
       "    </tr>\n",
       "  </thead>\n",
       "  <tbody>\n",
       "    <tr>\n",
       "      <th>0</th>\n",
       "      <td>0.0</td>\n",
       "      <td>0.0</td>\n",
       "      <td>0.000000</td>\n",
       "      <td>0.0</td>\n",
       "      <td>0.400535</td>\n",
       "      <td>0.000000</td>\n",
       "      <td>0.0</td>\n",
       "      <td>0.0</td>\n",
       "      <td>0.0</td>\n",
       "      <td>0.0</td>\n",
       "      <td>...</td>\n",
       "      <td>0.200870</td>\n",
       "      <td>0.0</td>\n",
       "      <td>0.0</td>\n",
       "      <td>0.0</td>\n",
       "      <td>0.000000</td>\n",
       "      <td>0.000000</td>\n",
       "      <td>0.000000</td>\n",
       "      <td>0.0</td>\n",
       "      <td>0.000000</td>\n",
       "      <td>0.0</td>\n",
       "    </tr>\n",
       "    <tr>\n",
       "      <th>1</th>\n",
       "      <td>0.0</td>\n",
       "      <td>0.0</td>\n",
       "      <td>0.115176</td>\n",
       "      <td>0.0</td>\n",
       "      <td>0.000000</td>\n",
       "      <td>0.000000</td>\n",
       "      <td>0.0</td>\n",
       "      <td>0.0</td>\n",
       "      <td>0.0</td>\n",
       "      <td>0.0</td>\n",
       "      <td>...</td>\n",
       "      <td>0.000000</td>\n",
       "      <td>0.0</td>\n",
       "      <td>0.0</td>\n",
       "      <td>0.0</td>\n",
       "      <td>0.414382</td>\n",
       "      <td>0.530228</td>\n",
       "      <td>0.527328</td>\n",
       "      <td>0.0</td>\n",
       "      <td>0.000000</td>\n",
       "      <td>0.0</td>\n",
       "    </tr>\n",
       "    <tr>\n",
       "      <th>2</th>\n",
       "      <td>0.0</td>\n",
       "      <td>0.0</td>\n",
       "      <td>0.000000</td>\n",
       "      <td>0.0</td>\n",
       "      <td>0.000000</td>\n",
       "      <td>0.000000</td>\n",
       "      <td>0.0</td>\n",
       "      <td>0.0</td>\n",
       "      <td>0.0</td>\n",
       "      <td>0.0</td>\n",
       "      <td>...</td>\n",
       "      <td>0.000000</td>\n",
       "      <td>0.0</td>\n",
       "      <td>0.0</td>\n",
       "      <td>0.0</td>\n",
       "      <td>0.000000</td>\n",
       "      <td>0.000000</td>\n",
       "      <td>0.000000</td>\n",
       "      <td>0.0</td>\n",
       "      <td>0.144146</td>\n",
       "      <td>0.0</td>\n",
       "    </tr>\n",
       "    <tr>\n",
       "      <th>3</th>\n",
       "      <td>0.0</td>\n",
       "      <td>0.0</td>\n",
       "      <td>0.000000</td>\n",
       "      <td>0.0</td>\n",
       "      <td>0.000000</td>\n",
       "      <td>0.000000</td>\n",
       "      <td>0.0</td>\n",
       "      <td>0.0</td>\n",
       "      <td>0.0</td>\n",
       "      <td>0.0</td>\n",
       "      <td>...</td>\n",
       "      <td>0.000000</td>\n",
       "      <td>0.0</td>\n",
       "      <td>0.0</td>\n",
       "      <td>0.0</td>\n",
       "      <td>0.000000</td>\n",
       "      <td>0.000000</td>\n",
       "      <td>0.000000</td>\n",
       "      <td>0.0</td>\n",
       "      <td>0.152048</td>\n",
       "      <td>0.0</td>\n",
       "    </tr>\n",
       "    <tr>\n",
       "      <th>4</th>\n",
       "      <td>0.0</td>\n",
       "      <td>0.0</td>\n",
       "      <td>0.000000</td>\n",
       "      <td>0.0</td>\n",
       "      <td>0.000000</td>\n",
       "      <td>0.172131</td>\n",
       "      <td>0.0</td>\n",
       "      <td>0.0</td>\n",
       "      <td>0.0</td>\n",
       "      <td>0.0</td>\n",
       "      <td>...</td>\n",
       "      <td>0.182326</td>\n",
       "      <td>0.0</td>\n",
       "      <td>0.0</td>\n",
       "      <td>0.0</td>\n",
       "      <td>0.000000</td>\n",
       "      <td>0.000000</td>\n",
       "      <td>0.000000</td>\n",
       "      <td>0.0</td>\n",
       "      <td>0.000000</td>\n",
       "      <td>0.0</td>\n",
       "    </tr>\n",
       "  </tbody>\n",
       "</table>\n",
       "<p>5 rows × 472 columns</p>\n",
       "</div>"
      ],
      "text/plain": [
       "    10  10 week       1st   20        50        60   70   80  active  \\\n",
       "0  0.0      0.0  0.000000  0.0  0.400535  0.000000  0.0  0.0     0.0   \n",
       "1  0.0      0.0  0.115176  0.0  0.000000  0.000000  0.0  0.0     0.0   \n",
       "2  0.0      0.0  0.000000  0.0  0.000000  0.000000  0.0  0.0     0.0   \n",
       "3  0.0      0.0  0.000000  0.0  0.000000  0.000000  0.0  0.0     0.0   \n",
       "4  0.0      0.0  0.000000  0.0  0.000000  0.172131  0.0  0.0     0.0   \n",
       "\n",
       "   activity  ...      user  variety  way  week     white  white widow  \\\n",
       "0       0.0  ...  0.200870      0.0  0.0   0.0  0.000000     0.000000   \n",
       "1       0.0  ...  0.000000      0.0  0.0   0.0  0.414382     0.530228   \n",
       "2       0.0  ...  0.000000      0.0  0.0   0.0  0.000000     0.000000   \n",
       "3       0.0  ...  0.000000      0.0  0.0   0.0  0.000000     0.000000   \n",
       "4       0.0  ...  0.182326      0.0  0.0   0.0  0.000000     0.000000   \n",
       "\n",
       "      widow  win     woody  yield  \n",
       "0  0.000000  0.0  0.000000    0.0  \n",
       "1  0.527328  0.0  0.000000    0.0  \n",
       "2  0.000000  0.0  0.144146    0.0  \n",
       "3  0.000000  0.0  0.152048    0.0  \n",
       "4  0.000000  0.0  0.000000    0.0  \n",
       "\n",
       "[5 rows x 472 columns]"
      ]
     },
     "execution_count": 46,
     "metadata": {},
     "output_type": "execute_result"
    }
   ],
   "source": [
    "# Looking at dtm:\n",
    "\n",
    "dtm.head(5)"
   ]
  },
  {
   "cell_type": "code",
   "execution_count": 47,
   "metadata": {},
   "outputs": [],
   "source": [
    "# Saving processed data as a .csv file for use in model:\n",
    "\n",
    "dtm.to_csv('cannabis-processed.csv', index=False)"
   ]
  },
  {
   "cell_type": "markdown",
   "metadata": {},
   "source": [
    "## Predictive Model"
   ]
  },
  {
   "cell_type": "code",
   "execution_count": 48,
   "metadata": {},
   "outputs": [],
   "source": [
    "# Imports for KNN model:\n",
    "\n",
    "from sklearn.neighbors import NearestNeighbors"
   ]
  },
  {
   "cell_type": "code",
   "execution_count": 49,
   "metadata": {},
   "outputs": [
    {
     "data": {
      "text/plain": [
       "NearestNeighbors(algorithm='kd_tree', leaf_size=30, metric='minkowski',\n",
       "                 metric_params=None, n_jobs=None, n_neighbors=3, p=2,\n",
       "                 radius=1.0)"
      ]
     },
     "execution_count": 49,
     "metadata": {},
     "output_type": "execute_result"
    }
   ],
   "source": [
    "# Creating and fitting model:\n",
    "\n",
    "model = NearestNeighbors(n_neighbors=3, algorithm='kd_tree')\n",
    "model.fit(dtm)"
   ]
  },
  {
   "cell_type": "code",
   "execution_count": 50,
   "metadata": {},
   "outputs": [],
   "source": [
    "# Testing a string with a potential user entry (I am in chemotherapy and need pain relief and to increase my appetite):\n",
    "\n",
    "test_entry = ['I am in chemotherapy and need pain relief and to increase my appetite']"
   ]
  },
  {
   "cell_type": "code",
   "execution_count": 51,
   "metadata": {},
   "outputs": [],
   "source": [
    "test_entry = vectorized.transform(test_entry)"
   ]
  },
  {
   "cell_type": "code",
   "execution_count": 52,
   "metadata": {},
   "outputs": [],
   "source": [
    "test_entry = test_entry.todense()"
   ]
  },
  {
   "cell_type": "code",
   "execution_count": 53,
   "metadata": {},
   "outputs": [],
   "source": [
    "# Getting predictions:\n",
    "\n",
    "predictions = model.kneighbors(test_entry)"
   ]
  },
  {
   "cell_type": "code",
   "execution_count": 54,
   "metadata": {},
   "outputs": [
    {
     "data": {
      "text/plain": [
       "(array([[1.091, 1.175, 1.189]]), array([[1622, 1128, 1163]], dtype=int64))"
      ]
     },
     "execution_count": 54,
     "metadata": {},
     "output_type": "execute_result"
    }
   ],
   "source": [
    "# Looking at the predictions:\n",
    "\n",
    "predictions"
   ]
  },
  {
   "cell_type": "code",
   "execution_count": 55,
   "metadata": {},
   "outputs": [
    {
     "data": {
      "text/plain": [
       "1622"
      ]
     },
     "execution_count": 55,
     "metadata": {},
     "output_type": "execute_result"
    }
   ],
   "source": [
    "# Best match:\n",
    "\n",
    "predictions[1][0][0]"
   ]
  },
  {
   "cell_type": "code",
   "execution_count": 56,
   "metadata": {},
   "outputs": [],
   "source": [
    "best_match = predictions[1][0][0]"
   ]
  },
  {
   "cell_type": "code",
   "execution_count": 57,
   "metadata": {},
   "outputs": [
    {
     "data": {
      "text/plain": [
       "Strain                                              Purple-Arrow\n",
       "Type                                                      hybrid\n",
       "Effects                 Happy,Uplifted,Focused,Energetic,Relaxed\n",
       "Flavor                                       Sweet,Citrus,Earthy\n",
       "Description    When it comes to knocking out pain, no medical...\n",
       "name                                                            \n",
       "ailment                                                         \n",
       "all_text       Purple-Arrow hybrid Happy,Uplifted,Focused,Ene...\n",
       "lemmas         Purple Arrow hybrid Happy uplifted Focused ene...\n",
       "Name: 1622, dtype: object"
      ]
     },
     "execution_count": 57,
     "metadata": {},
     "output_type": "execute_result"
    }
   ],
   "source": [
    "merged_strings.iloc[best_match]"
   ]
  },
  {
   "cell_type": "code",
   "execution_count": 58,
   "metadata": {},
   "outputs": [],
   "source": [
    "recommended_strain = merged_strings.iloc[best_match]"
   ]
  },
  {
   "cell_type": "code",
   "execution_count": 59,
   "metadata": {},
   "outputs": [
    {
     "data": {
      "text/plain": [
       "{'Strain': 'Purple-Arrow',\n",
       " 'Type': 'hybrid',\n",
       " 'Effects': 'Happy,Uplifted,Focused,Energetic,Relaxed',\n",
       " 'Flavor': 'Sweet,Citrus,Earthy',\n",
       " 'Description': 'When it comes to knocking out pain, no medical strain hits the target quite like Purple Arrow. This hybrid provides effective relief for severe pain while simultaneously inducing a sense of uplift and euphoria. Extremely well-rounded, Purple Arrow is potent without causing that over-medicated feeling of some pain relief strains. The uniqueness of this strain is complemented by its earthy aroma. Fragrant, herbal, and a little sweet, this strain tastes almost as good as it feels. When you need immediate relief and would like to stay off the couch, Purple Arrow is a fantastic choice.'}"
      ]
     },
     "execution_count": 59,
     "metadata": {},
     "output_type": "execute_result"
    }
   ],
   "source": [
    "# Dropping name, ailment, all_text and lemmas from recommended_strain to a dictionary: \n",
    "\n",
    "recommended_strain.drop(['name', 'ailment', 'all_text', 'lemmas']).to_dict()"
   ]
  },
  {
   "cell_type": "code",
   "execution_count": 60,
   "metadata": {},
   "outputs": [],
   "source": [
    "# Creating variable called returned values:\n",
    "\n",
    "returned_values = recommended_strain.drop(['name', 'ailment', 'all_text', 'lemmas']).to_dict()"
   ]
  },
  {
   "cell_type": "code",
   "execution_count": 61,
   "metadata": {},
   "outputs": [
    {
     "data": {
      "text/plain": [
       "{'Strain': 'Purple-Arrow',\n",
       " 'Type': 'hybrid',\n",
       " 'Effects': 'Happy,Uplifted,Focused,Energetic,Relaxed',\n",
       " 'Flavor': 'Sweet,Citrus,Earthy',\n",
       " 'Description': 'When it comes to knocking out pain, no medical strain hits the target quite like Purple Arrow. This hybrid provides effective relief for severe pain while simultaneously inducing a sense of uplift and euphoria. Extremely well-rounded, Purple Arrow is potent without causing that over-medicated feeling of some pain relief strains. The uniqueness of this strain is complemented by its earthy aroma. Fragrant, herbal, and a little sweet, this strain tastes almost as good as it feels. When you need immediate relief and would like to stay off the couch, Purple Arrow is a fantastic choice.'}"
      ]
     },
     "execution_count": 61,
     "metadata": {},
     "output_type": "execute_result"
    }
   ],
   "source": [
    "# Looking at returned values:\n",
    "\n",
    "returned_values"
   ]
  }
 ],
 "metadata": {
  "kernelspec": {
   "display_name": "Python 3",
   "language": "python",
   "name": "python3"
  },
  "language_info": {
   "codemirror_mode": {
    "name": "ipython",
    "version": 3
   },
   "file_extension": ".py",
   "mimetype": "text/x-python",
   "name": "python",
   "nbconvert_exporter": "python",
   "pygments_lexer": "ipython3",
   "version": "3.7.4"
  }
 },
 "nbformat": 4,
 "nbformat_minor": 4
}
