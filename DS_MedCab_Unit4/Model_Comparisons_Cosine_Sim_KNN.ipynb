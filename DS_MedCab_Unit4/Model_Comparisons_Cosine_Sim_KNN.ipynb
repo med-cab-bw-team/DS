{
 "cells": [
  {
   "cell_type": "markdown",
   "metadata": {},
   "source": [
    "# Comparison of Cosine Similarity & K-Nearest Neighbors Models"
   ]
  },
  {
   "cell_type": "markdown",
   "metadata": {},
   "source": [
    "## Cosine Similarity Model"
   ]
  },
  {
   "cell_type": "markdown",
   "metadata": {},
   "source": [
    "#### Alternative model for medicine cabinet project using Cosine Similarity to predict cannabis strain recommendations based on user input."
   ]
  },
  {
   "cell_type": "code",
   "execution_count": 1,
   "metadata": {},
   "outputs": [],
   "source": [
    "# Imports\n",
    "\n",
    "import pandas as pd\n",
    "import numpy as np"
   ]
  },
  {
   "cell_type": "code",
   "execution_count": 2,
   "metadata": {},
   "outputs": [],
   "source": [
    "# Loading preprocessed data - Courtesy Curdt Million\n",
    "\n",
    "df = pd.read_csv(\"lemmatized_strains.csv\")"
   ]
  },
  {
   "cell_type": "code",
   "execution_count": 3,
   "metadata": {},
   "outputs": [
    {
     "data": {
      "text/html": [
       "<div>\n",
       "<style scoped>\n",
       "    .dataframe tbody tr th:only-of-type {\n",
       "        vertical-align: middle;\n",
       "    }\n",
       "\n",
       "    .dataframe tbody tr th {\n",
       "        vertical-align: top;\n",
       "    }\n",
       "\n",
       "    .dataframe thead th {\n",
       "        text-align: right;\n",
       "    }\n",
       "</style>\n",
       "<table border=\"1\" class=\"dataframe\">\n",
       "  <thead>\n",
       "    <tr style=\"text-align: right;\">\n",
       "      <th></th>\n",
       "      <th>Unnamed: 0</th>\n",
       "      <th>Strain</th>\n",
       "      <th>Type</th>\n",
       "      <th>Effects</th>\n",
       "      <th>Flavor</th>\n",
       "      <th>Description</th>\n",
       "      <th>name</th>\n",
       "      <th>ailment</th>\n",
       "      <th>all_text</th>\n",
       "      <th>lemmas</th>\n",
       "    </tr>\n",
       "  </thead>\n",
       "  <tbody>\n",
       "    <tr>\n",
       "      <th>0</th>\n",
       "      <td>0</td>\n",
       "      <td>100-Og</td>\n",
       "      <td>hybrid</td>\n",
       "      <td>Creative,Energetic,Tingly,Euphoric,Relaxed</td>\n",
       "      <td>Earthy,Sweet,Citrus</td>\n",
       "      <td>$100 OG is a 50/50 hybrid strain that packs a ...</td>\n",
       "      <td>NaN</td>\n",
       "      <td>NaN</td>\n",
       "      <td>100-Og hybrid Creative,Energetic,Tingly,Euphor...</td>\n",
       "      <td>100-Og hybrid Creative energetic Tingly Euphor...</td>\n",
       "    </tr>\n",
       "    <tr>\n",
       "      <th>1</th>\n",
       "      <td>1</td>\n",
       "      <td>98-White-Widow</td>\n",
       "      <td>hybrid</td>\n",
       "      <td>Relaxed,Aroused,Creative,Happy,Energetic</td>\n",
       "      <td>Flowery,Violet,Diesel</td>\n",
       "      <td>The ‘98 Aloha White Widow is an especially pot...</td>\n",
       "      <td>NaN</td>\n",
       "      <td>NaN</td>\n",
       "      <td>98-White-Widow hybrid Relaxed,Aroused,Creative...</td>\n",
       "      <td>98-white widow hybrid Relaxed arouse Creative ...</td>\n",
       "    </tr>\n",
       "    <tr>\n",
       "      <th>2</th>\n",
       "      <td>2</td>\n",
       "      <td>1024</td>\n",
       "      <td>sativa</td>\n",
       "      <td>Uplifted,Happy,Relaxed,Energetic,Creative</td>\n",
       "      <td>Spicy/Herbal,Sage,Woody</td>\n",
       "      <td>1024 is a sativa-dominant hybrid bred in Spain...</td>\n",
       "      <td>1024</td>\n",
       "      <td>Stress, Pain, Depression, Inflammation</td>\n",
       "      <td>1024 sativa Uplifted,Happy,Relaxed,Energetic,C...</td>\n",
       "      <td>1024 sativa Uplifted happy relaxed energetic C...</td>\n",
       "    </tr>\n",
       "    <tr>\n",
       "      <th>3</th>\n",
       "      <td>3</td>\n",
       "      <td>13-Dawgs</td>\n",
       "      <td>hybrid</td>\n",
       "      <td>Tingly,Creative,Hungry,Relaxed,Uplifted</td>\n",
       "      <td>Apricot,Citrus,Grapefruit</td>\n",
       "      <td>13 Dawgs is a hybrid of G13 and Chemdawg genet...</td>\n",
       "      <td>NaN</td>\n",
       "      <td>NaN</td>\n",
       "      <td>13-Dawgs hybrid Tingly,Creative,Hungry,Relaxed...</td>\n",
       "      <td>13-dawgs hybrid Tingly creative hungry Relaxed...</td>\n",
       "    </tr>\n",
       "    <tr>\n",
       "      <th>4</th>\n",
       "      <td>4</td>\n",
       "      <td>24K-Gold</td>\n",
       "      <td>hybrid</td>\n",
       "      <td>Happy,Relaxed,Euphoric,Uplifted,Talkative</td>\n",
       "      <td>Citrus,Earthy,Orange</td>\n",
       "      <td>Also known as Kosher Tangie, 24k Gold is a 60%...</td>\n",
       "      <td>NaN</td>\n",
       "      <td>NaN</td>\n",
       "      <td>24K-Gold hybrid Happy,Relaxed,Euphoric,Uplifte...</td>\n",
       "      <td>24k gold hybrid Happy Relaxed Euphoric Uplifte...</td>\n",
       "    </tr>\n",
       "  </tbody>\n",
       "</table>\n",
       "</div>"
      ],
      "text/plain": [
       "   Unnamed: 0          Strain    Type  \\\n",
       "0           0          100-Og  hybrid   \n",
       "1           1  98-White-Widow  hybrid   \n",
       "2           2            1024  sativa   \n",
       "3           3        13-Dawgs  hybrid   \n",
       "4           4        24K-Gold  hybrid   \n",
       "\n",
       "                                      Effects                     Flavor  \\\n",
       "0  Creative,Energetic,Tingly,Euphoric,Relaxed        Earthy,Sweet,Citrus   \n",
       "1    Relaxed,Aroused,Creative,Happy,Energetic      Flowery,Violet,Diesel   \n",
       "2   Uplifted,Happy,Relaxed,Energetic,Creative    Spicy/Herbal,Sage,Woody   \n",
       "3     Tingly,Creative,Hungry,Relaxed,Uplifted  Apricot,Citrus,Grapefruit   \n",
       "4   Happy,Relaxed,Euphoric,Uplifted,Talkative       Citrus,Earthy,Orange   \n",
       "\n",
       "                                         Description  name  \\\n",
       "0  $100 OG is a 50/50 hybrid strain that packs a ...   NaN   \n",
       "1  The ‘98 Aloha White Widow is an especially pot...   NaN   \n",
       "2  1024 is a sativa-dominant hybrid bred in Spain...  1024   \n",
       "3  13 Dawgs is a hybrid of G13 and Chemdawg genet...   NaN   \n",
       "4  Also known as Kosher Tangie, 24k Gold is a 60%...   NaN   \n",
       "\n",
       "                                  ailment  \\\n",
       "0                                     NaN   \n",
       "1                                     NaN   \n",
       "2  Stress, Pain, Depression, Inflammation   \n",
       "3                                     NaN   \n",
       "4                                     NaN   \n",
       "\n",
       "                                            all_text  \\\n",
       "0  100-Og hybrid Creative,Energetic,Tingly,Euphor...   \n",
       "1  98-White-Widow hybrid Relaxed,Aroused,Creative...   \n",
       "2  1024 sativa Uplifted,Happy,Relaxed,Energetic,C...   \n",
       "3  13-Dawgs hybrid Tingly,Creative,Hungry,Relaxed...   \n",
       "4  24K-Gold hybrid Happy,Relaxed,Euphoric,Uplifte...   \n",
       "\n",
       "                                              lemmas  \n",
       "0  100-Og hybrid Creative energetic Tingly Euphor...  \n",
       "1  98-white widow hybrid Relaxed arouse Creative ...  \n",
       "2  1024 sativa Uplifted happy relaxed energetic C...  \n",
       "3  13-dawgs hybrid Tingly creative hungry Relaxed...  \n",
       "4  24k gold hybrid Happy Relaxed Euphoric Uplifte...  "
      ]
     },
     "execution_count": 3,
     "metadata": {},
     "output_type": "execute_result"
    }
   ],
   "source": [
    "df.head()"
   ]
  },
  {
   "cell_type": "code",
   "execution_count": 4,
   "metadata": {},
   "outputs": [],
   "source": [
    "# Dropping unnamed columns & resetting index\n",
    "\n",
    "df = df.drop('Unnamed: 0', axis=1).reset_index()"
   ]
  },
  {
   "cell_type": "code",
   "execution_count": 5,
   "metadata": {},
   "outputs": [
    {
     "data": {
      "text/html": [
       "<div>\n",
       "<style scoped>\n",
       "    .dataframe tbody tr th:only-of-type {\n",
       "        vertical-align: middle;\n",
       "    }\n",
       "\n",
       "    .dataframe tbody tr th {\n",
       "        vertical-align: top;\n",
       "    }\n",
       "\n",
       "    .dataframe thead th {\n",
       "        text-align: right;\n",
       "    }\n",
       "</style>\n",
       "<table border=\"1\" class=\"dataframe\">\n",
       "  <thead>\n",
       "    <tr style=\"text-align: right;\">\n",
       "      <th></th>\n",
       "      <th>index</th>\n",
       "      <th>Strain</th>\n",
       "      <th>Type</th>\n",
       "      <th>Effects</th>\n",
       "      <th>Flavor</th>\n",
       "      <th>Description</th>\n",
       "      <th>name</th>\n",
       "      <th>ailment</th>\n",
       "      <th>all_text</th>\n",
       "      <th>lemmas</th>\n",
       "    </tr>\n",
       "  </thead>\n",
       "  <tbody>\n",
       "    <tr>\n",
       "      <th>0</th>\n",
       "      <td>0</td>\n",
       "      <td>100-Og</td>\n",
       "      <td>hybrid</td>\n",
       "      <td>Creative,Energetic,Tingly,Euphoric,Relaxed</td>\n",
       "      <td>Earthy,Sweet,Citrus</td>\n",
       "      <td>$100 OG is a 50/50 hybrid strain that packs a ...</td>\n",
       "      <td>NaN</td>\n",
       "      <td>NaN</td>\n",
       "      <td>100-Og hybrid Creative,Energetic,Tingly,Euphor...</td>\n",
       "      <td>100-Og hybrid Creative energetic Tingly Euphor...</td>\n",
       "    </tr>\n",
       "    <tr>\n",
       "      <th>1</th>\n",
       "      <td>1</td>\n",
       "      <td>98-White-Widow</td>\n",
       "      <td>hybrid</td>\n",
       "      <td>Relaxed,Aroused,Creative,Happy,Energetic</td>\n",
       "      <td>Flowery,Violet,Diesel</td>\n",
       "      <td>The ‘98 Aloha White Widow is an especially pot...</td>\n",
       "      <td>NaN</td>\n",
       "      <td>NaN</td>\n",
       "      <td>98-White-Widow hybrid Relaxed,Aroused,Creative...</td>\n",
       "      <td>98-white widow hybrid Relaxed arouse Creative ...</td>\n",
       "    </tr>\n",
       "    <tr>\n",
       "      <th>2</th>\n",
       "      <td>2</td>\n",
       "      <td>1024</td>\n",
       "      <td>sativa</td>\n",
       "      <td>Uplifted,Happy,Relaxed,Energetic,Creative</td>\n",
       "      <td>Spicy/Herbal,Sage,Woody</td>\n",
       "      <td>1024 is a sativa-dominant hybrid bred in Spain...</td>\n",
       "      <td>1024</td>\n",
       "      <td>Stress, Pain, Depression, Inflammation</td>\n",
       "      <td>1024 sativa Uplifted,Happy,Relaxed,Energetic,C...</td>\n",
       "      <td>1024 sativa Uplifted happy relaxed energetic C...</td>\n",
       "    </tr>\n",
       "    <tr>\n",
       "      <th>3</th>\n",
       "      <td>3</td>\n",
       "      <td>13-Dawgs</td>\n",
       "      <td>hybrid</td>\n",
       "      <td>Tingly,Creative,Hungry,Relaxed,Uplifted</td>\n",
       "      <td>Apricot,Citrus,Grapefruit</td>\n",
       "      <td>13 Dawgs is a hybrid of G13 and Chemdawg genet...</td>\n",
       "      <td>NaN</td>\n",
       "      <td>NaN</td>\n",
       "      <td>13-Dawgs hybrid Tingly,Creative,Hungry,Relaxed...</td>\n",
       "      <td>13-dawgs hybrid Tingly creative hungry Relaxed...</td>\n",
       "    </tr>\n",
       "    <tr>\n",
       "      <th>4</th>\n",
       "      <td>4</td>\n",
       "      <td>24K-Gold</td>\n",
       "      <td>hybrid</td>\n",
       "      <td>Happy,Relaxed,Euphoric,Uplifted,Talkative</td>\n",
       "      <td>Citrus,Earthy,Orange</td>\n",
       "      <td>Also known as Kosher Tangie, 24k Gold is a 60%...</td>\n",
       "      <td>NaN</td>\n",
       "      <td>NaN</td>\n",
       "      <td>24K-Gold hybrid Happy,Relaxed,Euphoric,Uplifte...</td>\n",
       "      <td>24k gold hybrid Happy Relaxed Euphoric Uplifte...</td>\n",
       "    </tr>\n",
       "  </tbody>\n",
       "</table>\n",
       "</div>"
      ],
      "text/plain": [
       "   index          Strain    Type                                     Effects  \\\n",
       "0      0          100-Og  hybrid  Creative,Energetic,Tingly,Euphoric,Relaxed   \n",
       "1      1  98-White-Widow  hybrid    Relaxed,Aroused,Creative,Happy,Energetic   \n",
       "2      2            1024  sativa   Uplifted,Happy,Relaxed,Energetic,Creative   \n",
       "3      3        13-Dawgs  hybrid     Tingly,Creative,Hungry,Relaxed,Uplifted   \n",
       "4      4        24K-Gold  hybrid   Happy,Relaxed,Euphoric,Uplifted,Talkative   \n",
       "\n",
       "                      Flavor  \\\n",
       "0        Earthy,Sweet,Citrus   \n",
       "1      Flowery,Violet,Diesel   \n",
       "2    Spicy/Herbal,Sage,Woody   \n",
       "3  Apricot,Citrus,Grapefruit   \n",
       "4       Citrus,Earthy,Orange   \n",
       "\n",
       "                                         Description  name  \\\n",
       "0  $100 OG is a 50/50 hybrid strain that packs a ...   NaN   \n",
       "1  The ‘98 Aloha White Widow is an especially pot...   NaN   \n",
       "2  1024 is a sativa-dominant hybrid bred in Spain...  1024   \n",
       "3  13 Dawgs is a hybrid of G13 and Chemdawg genet...   NaN   \n",
       "4  Also known as Kosher Tangie, 24k Gold is a 60%...   NaN   \n",
       "\n",
       "                                  ailment  \\\n",
       "0                                     NaN   \n",
       "1                                     NaN   \n",
       "2  Stress, Pain, Depression, Inflammation   \n",
       "3                                     NaN   \n",
       "4                                     NaN   \n",
       "\n",
       "                                            all_text  \\\n",
       "0  100-Og hybrid Creative,Energetic,Tingly,Euphor...   \n",
       "1  98-White-Widow hybrid Relaxed,Aroused,Creative...   \n",
       "2  1024 sativa Uplifted,Happy,Relaxed,Energetic,C...   \n",
       "3  13-Dawgs hybrid Tingly,Creative,Hungry,Relaxed...   \n",
       "4  24K-Gold hybrid Happy,Relaxed,Euphoric,Uplifte...   \n",
       "\n",
       "                                              lemmas  \n",
       "0  100-Og hybrid Creative energetic Tingly Euphor...  \n",
       "1  98-white widow hybrid Relaxed arouse Creative ...  \n",
       "2  1024 sativa Uplifted happy relaxed energetic C...  \n",
       "3  13-dawgs hybrid Tingly creative hungry Relaxed...  \n",
       "4  24k gold hybrid Happy Relaxed Euphoric Uplifte...  "
      ]
     },
     "execution_count": 5,
     "metadata": {},
     "output_type": "execute_result"
    }
   ],
   "source": [
    "df.head()"
   ]
  },
  {
   "cell_type": "markdown",
   "metadata": {},
   "source": [
    "### Vectorizing Words with TF/IDF Vectorizer to Create Document Term Matrix (DTM)"
   ]
  },
  {
   "cell_type": "code",
   "execution_count": 6,
   "metadata": {},
   "outputs": [],
   "source": [
    "# Instantiating TfidfVectorizer\n",
    "\n",
    "from sklearn.feature_extraction.text import TfidfVectorizer\n",
    "\n",
    "vect = TfidfVectorizer(stop_words=\"english\", min_df=0.025, max_df=0.98, ngram_range=(1,3))"
   ]
  },
  {
   "cell_type": "code",
   "execution_count": 7,
   "metadata": {},
   "outputs": [],
   "source": [
    "# Creating DTM\n",
    "\n",
    "dtm = vect.fit_transform(df['lemmas'])"
   ]
  },
  {
   "cell_type": "code",
   "execution_count": 8,
   "metadata": {},
   "outputs": [],
   "source": [
    "# Loading DTM to DataFrame\n",
    "\n",
    "dtm = pd.DataFrame(dtm.todense(), columns=vect.get_feature_names())"
   ]
  },
  {
   "cell_type": "code",
   "execution_count": 9,
   "metadata": {},
   "outputs": [
    {
     "data": {
      "text/html": [
       "<div>\n",
       "<style scoped>\n",
       "    .dataframe tbody tr th:only-of-type {\n",
       "        vertical-align: middle;\n",
       "    }\n",
       "\n",
       "    .dataframe tbody tr th {\n",
       "        vertical-align: top;\n",
       "    }\n",
       "\n",
       "    .dataframe thead th {\n",
       "        text-align: right;\n",
       "    }\n",
       "</style>\n",
       "<table border=\"1\" class=\"dataframe\">\n",
       "  <thead>\n",
       "    <tr style=\"text-align: right;\">\n",
       "      <th></th>\n",
       "      <th>10</th>\n",
       "      <th>10 week</th>\n",
       "      <th>1st</th>\n",
       "      <th>20</th>\n",
       "      <th>50</th>\n",
       "      <th>60</th>\n",
       "      <th>70</th>\n",
       "      <th>80</th>\n",
       "      <th>active</th>\n",
       "      <th>activity</th>\n",
       "      <th>...</th>\n",
       "      <th>variety</th>\n",
       "      <th>way</th>\n",
       "      <th>week</th>\n",
       "      <th>week flower</th>\n",
       "      <th>white</th>\n",
       "      <th>white widow</th>\n",
       "      <th>widow</th>\n",
       "      <th>win</th>\n",
       "      <th>woody</th>\n",
       "      <th>yield</th>\n",
       "    </tr>\n",
       "  </thead>\n",
       "  <tbody>\n",
       "    <tr>\n",
       "      <th>0</th>\n",
       "      <td>0.0</td>\n",
       "      <td>0.0</td>\n",
       "      <td>0.00000</td>\n",
       "      <td>0.0</td>\n",
       "      <td>0.400753</td>\n",
       "      <td>0.000000</td>\n",
       "      <td>0.0</td>\n",
       "      <td>0.0</td>\n",
       "      <td>0.0</td>\n",
       "      <td>0.0</td>\n",
       "      <td>...</td>\n",
       "      <td>0.0</td>\n",
       "      <td>0.0</td>\n",
       "      <td>0.0</td>\n",
       "      <td>0.0</td>\n",
       "      <td>0.000000</td>\n",
       "      <td>0.000000</td>\n",
       "      <td>0.00000</td>\n",
       "      <td>0.0</td>\n",
       "      <td>0.000000</td>\n",
       "      <td>0.0</td>\n",
       "    </tr>\n",
       "    <tr>\n",
       "      <th>1</th>\n",
       "      <td>0.0</td>\n",
       "      <td>0.0</td>\n",
       "      <td>0.11529</td>\n",
       "      <td>0.0</td>\n",
       "      <td>0.000000</td>\n",
       "      <td>0.000000</td>\n",
       "      <td>0.0</td>\n",
       "      <td>0.0</td>\n",
       "      <td>0.0</td>\n",
       "      <td>0.0</td>\n",
       "      <td>...</td>\n",
       "      <td>0.0</td>\n",
       "      <td>0.0</td>\n",
       "      <td>0.0</td>\n",
       "      <td>0.0</td>\n",
       "      <td>0.414792</td>\n",
       "      <td>0.530753</td>\n",
       "      <td>0.52785</td>\n",
       "      <td>0.0</td>\n",
       "      <td>0.000000</td>\n",
       "      <td>0.0</td>\n",
       "    </tr>\n",
       "    <tr>\n",
       "      <th>2</th>\n",
       "      <td>0.0</td>\n",
       "      <td>0.0</td>\n",
       "      <td>0.00000</td>\n",
       "      <td>0.0</td>\n",
       "      <td>0.000000</td>\n",
       "      <td>0.000000</td>\n",
       "      <td>0.0</td>\n",
       "      <td>0.0</td>\n",
       "      <td>0.0</td>\n",
       "      <td>0.0</td>\n",
       "      <td>...</td>\n",
       "      <td>0.0</td>\n",
       "      <td>0.0</td>\n",
       "      <td>0.0</td>\n",
       "      <td>0.0</td>\n",
       "      <td>0.000000</td>\n",
       "      <td>0.000000</td>\n",
       "      <td>0.00000</td>\n",
       "      <td>0.0</td>\n",
       "      <td>0.139941</td>\n",
       "      <td>0.0</td>\n",
       "    </tr>\n",
       "    <tr>\n",
       "      <th>3</th>\n",
       "      <td>0.0</td>\n",
       "      <td>0.0</td>\n",
       "      <td>0.00000</td>\n",
       "      <td>0.0</td>\n",
       "      <td>0.000000</td>\n",
       "      <td>0.000000</td>\n",
       "      <td>0.0</td>\n",
       "      <td>0.0</td>\n",
       "      <td>0.0</td>\n",
       "      <td>0.0</td>\n",
       "      <td>...</td>\n",
       "      <td>0.0</td>\n",
       "      <td>0.0</td>\n",
       "      <td>0.0</td>\n",
       "      <td>0.0</td>\n",
       "      <td>0.000000</td>\n",
       "      <td>0.000000</td>\n",
       "      <td>0.00000</td>\n",
       "      <td>0.0</td>\n",
       "      <td>0.152713</td>\n",
       "      <td>0.0</td>\n",
       "    </tr>\n",
       "    <tr>\n",
       "      <th>4</th>\n",
       "      <td>0.0</td>\n",
       "      <td>0.0</td>\n",
       "      <td>0.00000</td>\n",
       "      <td>0.0</td>\n",
       "      <td>0.000000</td>\n",
       "      <td>0.172229</td>\n",
       "      <td>0.0</td>\n",
       "      <td>0.0</td>\n",
       "      <td>0.0</td>\n",
       "      <td>0.0</td>\n",
       "      <td>...</td>\n",
       "      <td>0.0</td>\n",
       "      <td>0.0</td>\n",
       "      <td>0.0</td>\n",
       "      <td>0.0</td>\n",
       "      <td>0.000000</td>\n",
       "      <td>0.000000</td>\n",
       "      <td>0.00000</td>\n",
       "      <td>0.0</td>\n",
       "      <td>0.000000</td>\n",
       "      <td>0.0</td>\n",
       "    </tr>\n",
       "  </tbody>\n",
       "</table>\n",
       "<p>5 rows × 470 columns</p>\n",
       "</div>"
      ],
      "text/plain": [
       "    10  10 week      1st   20        50        60   70   80  active  activity  \\\n",
       "0  0.0      0.0  0.00000  0.0  0.400753  0.000000  0.0  0.0     0.0       0.0   \n",
       "1  0.0      0.0  0.11529  0.0  0.000000  0.000000  0.0  0.0     0.0       0.0   \n",
       "2  0.0      0.0  0.00000  0.0  0.000000  0.000000  0.0  0.0     0.0       0.0   \n",
       "3  0.0      0.0  0.00000  0.0  0.000000  0.000000  0.0  0.0     0.0       0.0   \n",
       "4  0.0      0.0  0.00000  0.0  0.000000  0.172229  0.0  0.0     0.0       0.0   \n",
       "\n",
       "   ...  variety  way  week  week flower     white  white widow    widow  win  \\\n",
       "0  ...      0.0  0.0   0.0          0.0  0.000000     0.000000  0.00000  0.0   \n",
       "1  ...      0.0  0.0   0.0          0.0  0.414792     0.530753  0.52785  0.0   \n",
       "2  ...      0.0  0.0   0.0          0.0  0.000000     0.000000  0.00000  0.0   \n",
       "3  ...      0.0  0.0   0.0          0.0  0.000000     0.000000  0.00000  0.0   \n",
       "4  ...      0.0  0.0   0.0          0.0  0.000000     0.000000  0.00000  0.0   \n",
       "\n",
       "      woody  yield  \n",
       "0  0.000000    0.0  \n",
       "1  0.000000    0.0  \n",
       "2  0.139941    0.0  \n",
       "3  0.152713    0.0  \n",
       "4  0.000000    0.0  \n",
       "\n",
       "[5 rows x 470 columns]"
      ]
     },
     "execution_count": 9,
     "metadata": {},
     "output_type": "execute_result"
    }
   ],
   "source": [
    "dtm.head()"
   ]
  },
  {
   "cell_type": "code",
   "execution_count": 10,
   "metadata": {},
   "outputs": [
    {
     "data": {
      "text/plain": [
       "(2280, 470)"
      ]
     },
     "execution_count": 10,
     "metadata": {},
     "output_type": "execute_result"
    }
   ],
   "source": [
    "dtm.shape"
   ]
  },
  {
   "cell_type": "markdown",
   "metadata": {},
   "source": [
    "### Applying Cosine Similarity"
   ]
  },
  {
   "cell_type": "code",
   "execution_count": 11,
   "metadata": {},
   "outputs": [],
   "source": [
    "# Calculating distance of vectors\n",
    "\n",
    "from sklearn.metrics.pairwise import cosine_similarity\n",
    "\n",
    "dist_matrix  = cosine_similarity(dtm)"
   ]
  },
  {
   "cell_type": "code",
   "execution_count": 12,
   "metadata": {},
   "outputs": [
    {
     "data": {
      "text/plain": [
       "(2280, 2280)"
      ]
     },
     "execution_count": 12,
     "metadata": {},
     "output_type": "execute_result"
    }
   ],
   "source": [
    "dist_matrix.shape"
   ]
  },
  {
   "cell_type": "code",
   "execution_count": 13,
   "metadata": {},
   "outputs": [
    {
     "data": {
      "text/plain": [
       "array([[1.        , 0.05019954, 0.09446667, ..., 0.04614303, 0.20400223,\n",
       "        0.03976338],\n",
       "       [0.05019954, 1.        , 0.03919548, ..., 0.05693017, 0.03774439,\n",
       "        0.01905132],\n",
       "       [0.09446667, 0.03919548, 1.        , ..., 0.13120335, 0.03704773,\n",
       "        0.10142609],\n",
       "       ...,\n",
       "       [0.04614303, 0.05693017, 0.13120335, ..., 1.        , 0.18964009,\n",
       "        0.04080311],\n",
       "       [0.20400223, 0.03774439, 0.03704773, ..., 0.18964009, 1.        ,\n",
       "        0.15828765],\n",
       "       [0.03976338, 0.01905132, 0.10142609, ..., 0.04080311, 0.15828765,\n",
       "        1.        ]])"
      ]
     },
     "execution_count": 13,
     "metadata": {},
     "output_type": "execute_result"
    }
   ],
   "source": [
    "dist_matrix"
   ]
  },
  {
   "cell_type": "code",
   "execution_count": 14,
   "metadata": {},
   "outputs": [],
   "source": [
    "# Incorporating distance matrix into dataframe\n",
    "\n",
    "df_cos = pd.DataFrame(dist_matrix)"
   ]
  },
  {
   "cell_type": "code",
   "execution_count": 15,
   "metadata": {},
   "outputs": [
    {
     "data": {
      "text/html": [
       "<div>\n",
       "<style scoped>\n",
       "    .dataframe tbody tr th:only-of-type {\n",
       "        vertical-align: middle;\n",
       "    }\n",
       "\n",
       "    .dataframe tbody tr th {\n",
       "        vertical-align: top;\n",
       "    }\n",
       "\n",
       "    .dataframe thead th {\n",
       "        text-align: right;\n",
       "    }\n",
       "</style>\n",
       "<table border=\"1\" class=\"dataframe\">\n",
       "  <thead>\n",
       "    <tr style=\"text-align: right;\">\n",
       "      <th></th>\n",
       "      <th>0</th>\n",
       "      <th>1</th>\n",
       "      <th>2</th>\n",
       "      <th>3</th>\n",
       "      <th>4</th>\n",
       "      <th>5</th>\n",
       "      <th>6</th>\n",
       "      <th>7</th>\n",
       "      <th>8</th>\n",
       "      <th>9</th>\n",
       "      <th>...</th>\n",
       "      <th>2270</th>\n",
       "      <th>2271</th>\n",
       "      <th>2272</th>\n",
       "      <th>2273</th>\n",
       "      <th>2274</th>\n",
       "      <th>2275</th>\n",
       "      <th>2276</th>\n",
       "      <th>2277</th>\n",
       "      <th>2278</th>\n",
       "      <th>2279</th>\n",
       "    </tr>\n",
       "  </thead>\n",
       "  <tbody>\n",
       "    <tr>\n",
       "      <th>0</th>\n",
       "      <td>1.000000</td>\n",
       "      <td>0.050200</td>\n",
       "      <td>0.094467</td>\n",
       "      <td>0.138441</td>\n",
       "      <td>0.167852</td>\n",
       "      <td>0.279632</td>\n",
       "      <td>0.160991</td>\n",
       "      <td>0.144329</td>\n",
       "      <td>0.039780</td>\n",
       "      <td>0.151746</td>\n",
       "      <td>...</td>\n",
       "      <td>0.143444</td>\n",
       "      <td>0.087499</td>\n",
       "      <td>0.138503</td>\n",
       "      <td>0.106033</td>\n",
       "      <td>0.098898</td>\n",
       "      <td>0.309409</td>\n",
       "      <td>0.082647</td>\n",
       "      <td>0.046143</td>\n",
       "      <td>0.204002</td>\n",
       "      <td>0.039763</td>\n",
       "    </tr>\n",
       "    <tr>\n",
       "      <th>1</th>\n",
       "      <td>0.050200</td>\n",
       "      <td>1.000000</td>\n",
       "      <td>0.039195</td>\n",
       "      <td>0.062325</td>\n",
       "      <td>0.057198</td>\n",
       "      <td>0.025107</td>\n",
       "      <td>0.062530</td>\n",
       "      <td>0.035826</td>\n",
       "      <td>0.037248</td>\n",
       "      <td>0.020530</td>\n",
       "      <td>...</td>\n",
       "      <td>0.123628</td>\n",
       "      <td>0.047277</td>\n",
       "      <td>0.012108</td>\n",
       "      <td>0.055818</td>\n",
       "      <td>0.049122</td>\n",
       "      <td>0.019146</td>\n",
       "      <td>0.045944</td>\n",
       "      <td>0.056930</td>\n",
       "      <td>0.037744</td>\n",
       "      <td>0.019051</td>\n",
       "    </tr>\n",
       "    <tr>\n",
       "      <th>2</th>\n",
       "      <td>0.094467</td>\n",
       "      <td>0.039195</td>\n",
       "      <td>1.000000</td>\n",
       "      <td>0.228735</td>\n",
       "      <td>0.127038</td>\n",
       "      <td>0.019263</td>\n",
       "      <td>0.206242</td>\n",
       "      <td>0.080875</td>\n",
       "      <td>0.182667</td>\n",
       "      <td>0.084721</td>\n",
       "      <td>...</td>\n",
       "      <td>0.143060</td>\n",
       "      <td>0.145247</td>\n",
       "      <td>0.187344</td>\n",
       "      <td>0.149791</td>\n",
       "      <td>0.264191</td>\n",
       "      <td>0.099647</td>\n",
       "      <td>0.154952</td>\n",
       "      <td>0.131203</td>\n",
       "      <td>0.037048</td>\n",
       "      <td>0.101426</td>\n",
       "    </tr>\n",
       "    <tr>\n",
       "      <th>3</th>\n",
       "      <td>0.138441</td>\n",
       "      <td>0.062325</td>\n",
       "      <td>0.228735</td>\n",
       "      <td>1.000000</td>\n",
       "      <td>0.142100</td>\n",
       "      <td>0.102130</td>\n",
       "      <td>0.099491</td>\n",
       "      <td>0.198146</td>\n",
       "      <td>0.176917</td>\n",
       "      <td>0.124149</td>\n",
       "      <td>...</td>\n",
       "      <td>0.201189</td>\n",
       "      <td>0.151043</td>\n",
       "      <td>0.137494</td>\n",
       "      <td>0.144705</td>\n",
       "      <td>0.208115</td>\n",
       "      <td>0.085285</td>\n",
       "      <td>0.188352</td>\n",
       "      <td>0.078144</td>\n",
       "      <td>0.105342</td>\n",
       "      <td>0.237819</td>\n",
       "    </tr>\n",
       "    <tr>\n",
       "      <th>4</th>\n",
       "      <td>0.167852</td>\n",
       "      <td>0.057198</td>\n",
       "      <td>0.127038</td>\n",
       "      <td>0.142100</td>\n",
       "      <td>1.000000</td>\n",
       "      <td>0.107282</td>\n",
       "      <td>0.111054</td>\n",
       "      <td>0.105749</td>\n",
       "      <td>0.096732</td>\n",
       "      <td>0.143729</td>\n",
       "      <td>...</td>\n",
       "      <td>0.144879</td>\n",
       "      <td>0.102967</td>\n",
       "      <td>0.125487</td>\n",
       "      <td>0.122542</td>\n",
       "      <td>0.133906</td>\n",
       "      <td>0.077173</td>\n",
       "      <td>0.081454</td>\n",
       "      <td>0.191653</td>\n",
       "      <td>0.069589</td>\n",
       "      <td>0.077302</td>\n",
       "    </tr>\n",
       "  </tbody>\n",
       "</table>\n",
       "<p>5 rows × 2280 columns</p>\n",
       "</div>"
      ],
      "text/plain": [
       "       0         1         2         3         4         5         6     \\\n",
       "0  1.000000  0.050200  0.094467  0.138441  0.167852  0.279632  0.160991   \n",
       "1  0.050200  1.000000  0.039195  0.062325  0.057198  0.025107  0.062530   \n",
       "2  0.094467  0.039195  1.000000  0.228735  0.127038  0.019263  0.206242   \n",
       "3  0.138441  0.062325  0.228735  1.000000  0.142100  0.102130  0.099491   \n",
       "4  0.167852  0.057198  0.127038  0.142100  1.000000  0.107282  0.111054   \n",
       "\n",
       "       7         8         9     ...      2270      2271      2272      2273  \\\n",
       "0  0.144329  0.039780  0.151746  ...  0.143444  0.087499  0.138503  0.106033   \n",
       "1  0.035826  0.037248  0.020530  ...  0.123628  0.047277  0.012108  0.055818   \n",
       "2  0.080875  0.182667  0.084721  ...  0.143060  0.145247  0.187344  0.149791   \n",
       "3  0.198146  0.176917  0.124149  ...  0.201189  0.151043  0.137494  0.144705   \n",
       "4  0.105749  0.096732  0.143729  ...  0.144879  0.102967  0.125487  0.122542   \n",
       "\n",
       "       2274      2275      2276      2277      2278      2279  \n",
       "0  0.098898  0.309409  0.082647  0.046143  0.204002  0.039763  \n",
       "1  0.049122  0.019146  0.045944  0.056930  0.037744  0.019051  \n",
       "2  0.264191  0.099647  0.154952  0.131203  0.037048  0.101426  \n",
       "3  0.208115  0.085285  0.188352  0.078144  0.105342  0.237819  \n",
       "4  0.133906  0.077173  0.081454  0.191653  0.069589  0.077302  \n",
       "\n",
       "[5 rows x 2280 columns]"
      ]
     },
     "execution_count": 15,
     "metadata": {},
     "output_type": "execute_result"
    }
   ],
   "source": [
    "df_cos.head()"
   ]
  },
  {
   "cell_type": "code",
   "execution_count": 16,
   "metadata": {},
   "outputs": [
    {
     "data": {
      "text/plain": [
       "(2280, 2280)"
      ]
     },
     "execution_count": 16,
     "metadata": {},
     "output_type": "execute_result"
    }
   ],
   "source": [
    "df_cos.shape"
   ]
  },
  {
   "cell_type": "code",
   "execution_count": 17,
   "metadata": {},
   "outputs": [
    {
     "data": {
      "text/plain": [
       "'100-Og hybrid Creative energetic Tingly Euphoric Relaxed Earthy Sweet Citrus $ 100 og 50/50 hybrid strain pack strong punch supposedly refer strength high price start show Hollywood plant $ 100 og tend produce large dark green bud stem user report strong body effect indica pain relief alert cerebral feeling thank sativa  '"
      ]
     },
     "execution_count": 17,
     "metadata": {},
     "output_type": "execute_result"
    }
   ],
   "source": [
    "df.lemmas[0]"
   ]
  },
  {
   "cell_type": "code",
   "execution_count": 18,
   "metadata": {},
   "outputs": [],
   "source": [
    "# Top 5 similar strains to strain index_no. 0 (100-OG)\n",
    "\n",
    "OG100_top_5 = df_cos[df_cos[0] < 1][0].sort_values(ascending=False)[:5]"
   ]
  },
  {
   "cell_type": "code",
   "execution_count": 19,
   "metadata": {},
   "outputs": [
    {
     "data": {
      "text/plain": [
       "670     0.456571\n",
       "2137    0.433465\n",
       "1837    0.423226\n",
       "1384    0.420398\n",
       "1697    0.417113\n",
       "Name: 0, dtype: float64"
      ]
     },
     "execution_count": 19,
     "metadata": {},
     "output_type": "execute_result"
    }
   ],
   "source": [
    "OG100_top_5"
   ]
  },
  {
   "cell_type": "code",
   "execution_count": 20,
   "metadata": {},
   "outputs": [
    {
     "data": {
      "text/plain": [
       "pandas.core.series.Series"
      ]
     },
     "execution_count": 20,
     "metadata": {},
     "output_type": "execute_result"
    }
   ],
   "source": [
    "type(OG100_top_5)"
   ]
  },
  {
   "cell_type": "code",
   "execution_count": 21,
   "metadata": {},
   "outputs": [],
   "source": [
    "# Converting to dict\n",
    "\n",
    "OG100_top_5 = dict(OG100_top_5)"
   ]
  },
  {
   "cell_type": "code",
   "execution_count": 22,
   "metadata": {},
   "outputs": [
    {
     "data": {
      "text/plain": [
       "dict"
      ]
     },
     "execution_count": 22,
     "metadata": {},
     "output_type": "execute_result"
    }
   ],
   "source": [
    "type(OG100_top_5)"
   ]
  },
  {
   "cell_type": "code",
   "execution_count": 23,
   "metadata": {},
   "outputs": [
    {
     "data": {
      "text/plain": [
       "{670: 0.4565706222702947,\n",
       " 2137: 0.4334652217771763,\n",
       " 1837: 0.42322601521876946,\n",
       " 1384: 0.4203984288723379,\n",
       " 1697: 0.4171133953625684}"
      ]
     },
     "execution_count": 23,
     "metadata": {},
     "output_type": "execute_result"
    }
   ],
   "source": [
    "OG100_top_5"
   ]
  },
  {
   "cell_type": "code",
   "execution_count": 24,
   "metadata": {},
   "outputs": [
    {
     "data": {
      "text/plain": [
       "{670: 0.4565706222702947,\n",
       " 2137: 0.4334652217771763,\n",
       " 1837: 0.42322601521876946,\n",
       " 1384: 0.4203984288723379,\n",
       " 1697: 0.4171133953625684}"
      ]
     },
     "execution_count": 24,
     "metadata": {},
     "output_type": "execute_result"
    }
   ],
   "source": [
    "OG100_top_5"
   ]
  },
  {
   "cell_type": "code",
   "execution_count": 25,
   "metadata": {},
   "outputs": [
    {
     "data": {
      "text/plain": [
       "dict_keys([670, 2137, 1837, 1384, 1697])"
      ]
     },
     "execution_count": 25,
     "metadata": {},
     "output_type": "execute_result"
    }
   ],
   "source": [
    "OG100_top_5.keys()"
   ]
  },
  {
   "cell_type": "code",
   "execution_count": 26,
   "metadata": {},
   "outputs": [
    {
     "data": {
      "text/html": [
       "<div>\n",
       "<style scoped>\n",
       "    .dataframe tbody tr th:only-of-type {\n",
       "        vertical-align: middle;\n",
       "    }\n",
       "\n",
       "    .dataframe tbody tr th {\n",
       "        vertical-align: top;\n",
       "    }\n",
       "\n",
       "    .dataframe thead th {\n",
       "        text-align: right;\n",
       "    }\n",
       "</style>\n",
       "<table border=\"1\" class=\"dataframe\">\n",
       "  <thead>\n",
       "    <tr style=\"text-align: right;\">\n",
       "      <th></th>\n",
       "      <th>Strain</th>\n",
       "      <th>Type</th>\n",
       "      <th>Effects</th>\n",
       "      <th>Flavor</th>\n",
       "      <th>Description</th>\n",
       "    </tr>\n",
       "  </thead>\n",
       "  <tbody>\n",
       "    <tr>\n",
       "      <th>670</th>\n",
       "      <td>Donna-Og</td>\n",
       "      <td>hybrid</td>\n",
       "      <td>Creative,Euphoric,Relaxed,Happy,Hungry</td>\n",
       "      <td>Citrus,Pungent,Sweet</td>\n",
       "      <td>Donna OG is a 50/50 hybrid cross between two O...</td>\n",
       "    </tr>\n",
       "    <tr>\n",
       "      <th>2137</th>\n",
       "      <td>Tuna-Og</td>\n",
       "      <td>hybrid</td>\n",
       "      <td>None</td>\n",
       "      <td>None</td>\n",
       "      <td>Tuna OG (or OG Tuna Kush) is a 50/50 hybrid cr...</td>\n",
       "    </tr>\n",
       "    <tr>\n",
       "      <th>1837</th>\n",
       "      <td>Skywalker-Og</td>\n",
       "      <td>hybrid</td>\n",
       "      <td>Relaxed,Euphoric,Happy,Uplifted,Sleepy</td>\n",
       "      <td>Earthy,Pungent,Sweet</td>\n",
       "      <td>Skywalker OG is a potent indica-dominant hybri...</td>\n",
       "    </tr>\n",
       "    <tr>\n",
       "      <th>1384</th>\n",
       "      <td>Monster-Og</td>\n",
       "      <td>hybrid</td>\n",
       "      <td>Hungry,Relaxed,Happy,Tingly,Sleepy</td>\n",
       "      <td>Woody,Spicy/Herbal,Earthy</td>\n",
       "      <td>Monster OG from The Green Element is a hybrid ...</td>\n",
       "    </tr>\n",
       "    <tr>\n",
       "      <th>1697</th>\n",
       "      <td>Rainbow</td>\n",
       "      <td>hybrid</td>\n",
       "      <td>Euphoric,Relaxed,Happy,Talkative,Uplifted</td>\n",
       "      <td>Sweet,Citrus,Orange</td>\n",
       "      <td>Rainbow is a 50/50 indica/sativa hybrid from S...</td>\n",
       "    </tr>\n",
       "  </tbody>\n",
       "</table>\n",
       "</div>"
      ],
      "text/plain": [
       "            Strain    Type                                    Effects  \\\n",
       "670       Donna-Og  hybrid     Creative,Euphoric,Relaxed,Happy,Hungry   \n",
       "2137       Tuna-Og  hybrid                                       None   \n",
       "1837  Skywalker-Og  hybrid     Relaxed,Euphoric,Happy,Uplifted,Sleepy   \n",
       "1384    Monster-Og  hybrid         Hungry,Relaxed,Happy,Tingly,Sleepy   \n",
       "1697       Rainbow  hybrid  Euphoric,Relaxed,Happy,Talkative,Uplifted   \n",
       "\n",
       "                         Flavor  \\\n",
       "670        Citrus,Pungent,Sweet   \n",
       "2137                       None   \n",
       "1837       Earthy,Pungent,Sweet   \n",
       "1384  Woody,Spicy/Herbal,Earthy   \n",
       "1697        Sweet,Citrus,Orange   \n",
       "\n",
       "                                            Description  \n",
       "670   Donna OG is a 50/50 hybrid cross between two O...  \n",
       "2137  Tuna OG (or OG Tuna Kush) is a 50/50 hybrid cr...  \n",
       "1837  Skywalker OG is a potent indica-dominant hybri...  \n",
       "1384  Monster OG from The Green Element is a hybrid ...  \n",
       "1697  Rainbow is a 50/50 indica/sativa hybrid from S...  "
      ]
     },
     "execution_count": 26,
     "metadata": {},
     "output_type": "execute_result"
    }
   ],
   "source": [
    "# Top 5 indexes in DataFrame\n",
    "\n",
    "df.iloc[[i for i in OG100_top_5], 1:6]"
   ]
  },
  {
   "cell_type": "markdown",
   "metadata": {},
   "source": [
    "### Creating Function to Calculate Closest Related Strains to Each Corresponding Strain"
   ]
  },
  {
   "cell_type": "code",
   "execution_count": 27,
   "metadata": {},
   "outputs": [],
   "source": [
    "# Creating Lookup Table DataFrame\n",
    "\n",
    "df_names = df[['index', 'Strain']]"
   ]
  },
  {
   "cell_type": "code",
   "execution_count": 28,
   "metadata": {},
   "outputs": [
    {
     "data": {
      "text/html": [
       "<div>\n",
       "<style scoped>\n",
       "    .dataframe tbody tr th:only-of-type {\n",
       "        vertical-align: middle;\n",
       "    }\n",
       "\n",
       "    .dataframe tbody tr th {\n",
       "        vertical-align: top;\n",
       "    }\n",
       "\n",
       "    .dataframe thead th {\n",
       "        text-align: right;\n",
       "    }\n",
       "</style>\n",
       "<table border=\"1\" class=\"dataframe\">\n",
       "  <thead>\n",
       "    <tr style=\"text-align: right;\">\n",
       "      <th></th>\n",
       "      <th>index</th>\n",
       "      <th>Strain</th>\n",
       "    </tr>\n",
       "  </thead>\n",
       "  <tbody>\n",
       "    <tr>\n",
       "      <th>0</th>\n",
       "      <td>0</td>\n",
       "      <td>100-Og</td>\n",
       "    </tr>\n",
       "    <tr>\n",
       "      <th>1</th>\n",
       "      <td>1</td>\n",
       "      <td>98-White-Widow</td>\n",
       "    </tr>\n",
       "    <tr>\n",
       "      <th>2</th>\n",
       "      <td>2</td>\n",
       "      <td>1024</td>\n",
       "    </tr>\n",
       "    <tr>\n",
       "      <th>3</th>\n",
       "      <td>3</td>\n",
       "      <td>13-Dawgs</td>\n",
       "    </tr>\n",
       "    <tr>\n",
       "      <th>4</th>\n",
       "      <td>4</td>\n",
       "      <td>24K-Gold</td>\n",
       "    </tr>\n",
       "  </tbody>\n",
       "</table>\n",
       "</div>"
      ],
      "text/plain": [
       "   index          Strain\n",
       "0      0          100-Og\n",
       "1      1  98-White-Widow\n",
       "2      2            1024\n",
       "3      3        13-Dawgs\n",
       "4      4        24K-Gold"
      ]
     },
     "execution_count": 28,
     "metadata": {},
     "output_type": "execute_result"
    }
   ],
   "source": [
    "df_names.head()"
   ]
  },
  {
   "cell_type": "code",
   "execution_count": 29,
   "metadata": {},
   "outputs": [],
   "source": [
    "def cos_sim(x):\n",
    "    \n",
    "    \"\"\"Returns top 5 similar strain indexes corresponding to input index\"\"\"\n",
    "     \n",
    "    top_5 = dict(df_cos[df_cos[x] < 1][x].sort_values(ascending=False)[:5])\n",
    "    \n",
    "    return top_5.keys()\n"
   ]
  },
  {
   "cell_type": "markdown",
   "metadata": {},
   "source": [
    "### Creating New Column in DataFrame for Strains with High Cosine Similarities"
   ]
  },
  {
   "cell_type": "code",
   "execution_count": 30,
   "metadata": {},
   "outputs": [],
   "source": [
    "df_strains = df.copy()"
   ]
  },
  {
   "cell_type": "code",
   "execution_count": 31,
   "metadata": {},
   "outputs": [
    {
     "data": {
      "text/html": [
       "<div>\n",
       "<style scoped>\n",
       "    .dataframe tbody tr th:only-of-type {\n",
       "        vertical-align: middle;\n",
       "    }\n",
       "\n",
       "    .dataframe tbody tr th {\n",
       "        vertical-align: top;\n",
       "    }\n",
       "\n",
       "    .dataframe thead th {\n",
       "        text-align: right;\n",
       "    }\n",
       "</style>\n",
       "<table border=\"1\" class=\"dataframe\">\n",
       "  <thead>\n",
       "    <tr style=\"text-align: right;\">\n",
       "      <th></th>\n",
       "      <th>index</th>\n",
       "      <th>Strain</th>\n",
       "      <th>Type</th>\n",
       "      <th>Effects</th>\n",
       "      <th>Flavor</th>\n",
       "      <th>Description</th>\n",
       "      <th>name</th>\n",
       "      <th>ailment</th>\n",
       "      <th>all_text</th>\n",
       "      <th>lemmas</th>\n",
       "    </tr>\n",
       "  </thead>\n",
       "  <tbody>\n",
       "    <tr>\n",
       "      <th>0</th>\n",
       "      <td>0</td>\n",
       "      <td>100-Og</td>\n",
       "      <td>hybrid</td>\n",
       "      <td>Creative,Energetic,Tingly,Euphoric,Relaxed</td>\n",
       "      <td>Earthy,Sweet,Citrus</td>\n",
       "      <td>$100 OG is a 50/50 hybrid strain that packs a ...</td>\n",
       "      <td>NaN</td>\n",
       "      <td>NaN</td>\n",
       "      <td>100-Og hybrid Creative,Energetic,Tingly,Euphor...</td>\n",
       "      <td>100-Og hybrid Creative energetic Tingly Euphor...</td>\n",
       "    </tr>\n",
       "    <tr>\n",
       "      <th>1</th>\n",
       "      <td>1</td>\n",
       "      <td>98-White-Widow</td>\n",
       "      <td>hybrid</td>\n",
       "      <td>Relaxed,Aroused,Creative,Happy,Energetic</td>\n",
       "      <td>Flowery,Violet,Diesel</td>\n",
       "      <td>The ‘98 Aloha White Widow is an especially pot...</td>\n",
       "      <td>NaN</td>\n",
       "      <td>NaN</td>\n",
       "      <td>98-White-Widow hybrid Relaxed,Aroused,Creative...</td>\n",
       "      <td>98-white widow hybrid Relaxed arouse Creative ...</td>\n",
       "    </tr>\n",
       "    <tr>\n",
       "      <th>2</th>\n",
       "      <td>2</td>\n",
       "      <td>1024</td>\n",
       "      <td>sativa</td>\n",
       "      <td>Uplifted,Happy,Relaxed,Energetic,Creative</td>\n",
       "      <td>Spicy/Herbal,Sage,Woody</td>\n",
       "      <td>1024 is a sativa-dominant hybrid bred in Spain...</td>\n",
       "      <td>1024</td>\n",
       "      <td>Stress, Pain, Depression, Inflammation</td>\n",
       "      <td>1024 sativa Uplifted,Happy,Relaxed,Energetic,C...</td>\n",
       "      <td>1024 sativa Uplifted happy relaxed energetic C...</td>\n",
       "    </tr>\n",
       "    <tr>\n",
       "      <th>3</th>\n",
       "      <td>3</td>\n",
       "      <td>13-Dawgs</td>\n",
       "      <td>hybrid</td>\n",
       "      <td>Tingly,Creative,Hungry,Relaxed,Uplifted</td>\n",
       "      <td>Apricot,Citrus,Grapefruit</td>\n",
       "      <td>13 Dawgs is a hybrid of G13 and Chemdawg genet...</td>\n",
       "      <td>NaN</td>\n",
       "      <td>NaN</td>\n",
       "      <td>13-Dawgs hybrid Tingly,Creative,Hungry,Relaxed...</td>\n",
       "      <td>13-dawgs hybrid Tingly creative hungry Relaxed...</td>\n",
       "    </tr>\n",
       "    <tr>\n",
       "      <th>4</th>\n",
       "      <td>4</td>\n",
       "      <td>24K-Gold</td>\n",
       "      <td>hybrid</td>\n",
       "      <td>Happy,Relaxed,Euphoric,Uplifted,Talkative</td>\n",
       "      <td>Citrus,Earthy,Orange</td>\n",
       "      <td>Also known as Kosher Tangie, 24k Gold is a 60%...</td>\n",
       "      <td>NaN</td>\n",
       "      <td>NaN</td>\n",
       "      <td>24K-Gold hybrid Happy,Relaxed,Euphoric,Uplifte...</td>\n",
       "      <td>24k gold hybrid Happy Relaxed Euphoric Uplifte...</td>\n",
       "    </tr>\n",
       "  </tbody>\n",
       "</table>\n",
       "</div>"
      ],
      "text/plain": [
       "   index          Strain    Type                                     Effects  \\\n",
       "0      0          100-Og  hybrid  Creative,Energetic,Tingly,Euphoric,Relaxed   \n",
       "1      1  98-White-Widow  hybrid    Relaxed,Aroused,Creative,Happy,Energetic   \n",
       "2      2            1024  sativa   Uplifted,Happy,Relaxed,Energetic,Creative   \n",
       "3      3        13-Dawgs  hybrid     Tingly,Creative,Hungry,Relaxed,Uplifted   \n",
       "4      4        24K-Gold  hybrid   Happy,Relaxed,Euphoric,Uplifted,Talkative   \n",
       "\n",
       "                      Flavor  \\\n",
       "0        Earthy,Sweet,Citrus   \n",
       "1      Flowery,Violet,Diesel   \n",
       "2    Spicy/Herbal,Sage,Woody   \n",
       "3  Apricot,Citrus,Grapefruit   \n",
       "4       Citrus,Earthy,Orange   \n",
       "\n",
       "                                         Description  name  \\\n",
       "0  $100 OG is a 50/50 hybrid strain that packs a ...   NaN   \n",
       "1  The ‘98 Aloha White Widow is an especially pot...   NaN   \n",
       "2  1024 is a sativa-dominant hybrid bred in Spain...  1024   \n",
       "3  13 Dawgs is a hybrid of G13 and Chemdawg genet...   NaN   \n",
       "4  Also known as Kosher Tangie, 24k Gold is a 60%...   NaN   \n",
       "\n",
       "                                  ailment  \\\n",
       "0                                     NaN   \n",
       "1                                     NaN   \n",
       "2  Stress, Pain, Depression, Inflammation   \n",
       "3                                     NaN   \n",
       "4                                     NaN   \n",
       "\n",
       "                                            all_text  \\\n",
       "0  100-Og hybrid Creative,Energetic,Tingly,Euphor...   \n",
       "1  98-White-Widow hybrid Relaxed,Aroused,Creative...   \n",
       "2  1024 sativa Uplifted,Happy,Relaxed,Energetic,C...   \n",
       "3  13-Dawgs hybrid Tingly,Creative,Hungry,Relaxed...   \n",
       "4  24K-Gold hybrid Happy,Relaxed,Euphoric,Uplifte...   \n",
       "\n",
       "                                              lemmas  \n",
       "0  100-Og hybrid Creative energetic Tingly Euphor...  \n",
       "1  98-white widow hybrid Relaxed arouse Creative ...  \n",
       "2  1024 sativa Uplifted happy relaxed energetic C...  \n",
       "3  13-dawgs hybrid Tingly creative hungry Relaxed...  \n",
       "4  24k gold hybrid Happy Relaxed Euphoric Uplifte...  "
      ]
     },
     "execution_count": 31,
     "metadata": {},
     "output_type": "execute_result"
    }
   ],
   "source": [
    "df_strains.head()"
   ]
  },
  {
   "cell_type": "code",
   "execution_count": 32,
   "metadata": {},
   "outputs": [
    {
     "data": {
      "text/plain": [
       "Index(['index', 'Strain', 'Type', 'Effects', 'Flavor', 'Description', 'name',\n",
       "       'ailment', 'all_text', 'lemmas'],\n",
       "      dtype='object')"
      ]
     },
     "execution_count": 32,
     "metadata": {},
     "output_type": "execute_result"
    }
   ],
   "source": [
    "df_strains.columns"
   ]
  },
  {
   "cell_type": "code",
   "execution_count": 33,
   "metadata": {},
   "outputs": [],
   "source": [
    "# Applying Cosine Similarity Function to Data Frame\n",
    "\n",
    "df_strains['Cos Sim Strains'] = [cos_sim(i) for i in df['index']]"
   ]
  },
  {
   "cell_type": "code",
   "execution_count": 34,
   "metadata": {},
   "outputs": [
    {
     "data": {
      "text/html": [
       "<div>\n",
       "<style scoped>\n",
       "    .dataframe tbody tr th:only-of-type {\n",
       "        vertical-align: middle;\n",
       "    }\n",
       "\n",
       "    .dataframe tbody tr th {\n",
       "        vertical-align: top;\n",
       "    }\n",
       "\n",
       "    .dataframe thead th {\n",
       "        text-align: right;\n",
       "    }\n",
       "</style>\n",
       "<table border=\"1\" class=\"dataframe\">\n",
       "  <thead>\n",
       "    <tr style=\"text-align: right;\">\n",
       "      <th></th>\n",
       "      <th>index</th>\n",
       "      <th>Strain</th>\n",
       "      <th>Type</th>\n",
       "      <th>Effects</th>\n",
       "      <th>Flavor</th>\n",
       "      <th>Description</th>\n",
       "      <th>name</th>\n",
       "      <th>ailment</th>\n",
       "      <th>all_text</th>\n",
       "      <th>lemmas</th>\n",
       "      <th>Cos Sim Strains</th>\n",
       "    </tr>\n",
       "  </thead>\n",
       "  <tbody>\n",
       "    <tr>\n",
       "      <th>935</th>\n",
       "      <td>935</td>\n",
       "      <td>Green-Mango</td>\n",
       "      <td>indica</td>\n",
       "      <td>Euphoric,Uplifted,Happy,Creative,Relaxed</td>\n",
       "      <td>Citrus,Earthy,Woody</td>\n",
       "      <td>Green Mango by Sumo Seeds is a tropical indica...</td>\n",
       "      <td>NaN</td>\n",
       "      <td>NaN</td>\n",
       "      <td>Green-Mango indica Euphoric,Uplifted,Happy,Cre...</td>\n",
       "      <td>Green Mango indica Euphoric Uplifted happy Cre...</td>\n",
       "      <td>(1340, 1310, 373, 1315, 1314)</td>\n",
       "    </tr>\n",
       "    <tr>\n",
       "      <th>1579</th>\n",
       "      <td>1579</td>\n",
       "      <td>Pink-Starburst</td>\n",
       "      <td>hybrid</td>\n",
       "      <td>Euphoric,Happy,Talkative,Uplifted,Creative</td>\n",
       "      <td>Sweet,Diesel,Berry</td>\n",
       "      <td>Pink Starburst by Manali West is an ultra pote...</td>\n",
       "      <td>NaN</td>\n",
       "      <td>NaN</td>\n",
       "      <td>Pink-Starburst hybrid Euphoric,Happy,Talkative...</td>\n",
       "      <td>pink Starburst hybrid Euphoric happy talkative...</td>\n",
       "      <td>(1579, 788, 653, 1847, 1871)</td>\n",
       "    </tr>\n",
       "    <tr>\n",
       "      <th>28</th>\n",
       "      <td>28</td>\n",
       "      <td>Ace-Killer-Og</td>\n",
       "      <td>indica</td>\n",
       "      <td>Relaxed,Sleepy,Euphoric,Happy,Uplifted</td>\n",
       "      <td>Earthy,Diesel,Spicy/Herbal</td>\n",
       "      <td>Ace Killer OG is an indica strain that boasts ...</td>\n",
       "      <td>NaN</td>\n",
       "      <td>NaN</td>\n",
       "      <td>Ace-Killer-Og indica Relaxed,Sleepy,Euphoric,H...</td>\n",
       "      <td>Ace Killer Og indica Relaxed sleepy Euphoric h...</td>\n",
       "      <td>(1360, 1421, 1540, 417, 26)</td>\n",
       "    </tr>\n",
       "    <tr>\n",
       "      <th>510</th>\n",
       "      <td>510</td>\n",
       "      <td>Chicle</td>\n",
       "      <td>hybrid</td>\n",
       "      <td>Aroused,Euphoric,Focused,Happy,Hungry</td>\n",
       "      <td>Ammonia,Diesel,Mint</td>\n",
       "      <td>Chicle (aka Bubbledawg) by T.H. Seeds is an aw...</td>\n",
       "      <td>NaN</td>\n",
       "      <td>NaN</td>\n",
       "      <td>Chicle hybrid Aroused,Euphoric,Focused,Happy,H...</td>\n",
       "      <td>Chicle hybrid arouse Euphoric Focused happy hu...</td>\n",
       "      <td>(2113, 32, 1746, 1973, 1269)</td>\n",
       "    </tr>\n",
       "    <tr>\n",
       "      <th>2191</th>\n",
       "      <td>2191</td>\n",
       "      <td>Wet-Dream</td>\n",
       "      <td>sativa</td>\n",
       "      <td>Uplifted,Energetic,Happy,Euphoric,Creative</td>\n",
       "      <td>Earthy,Spicy/Herbal,Woody</td>\n",
       "      <td>Wet Dream, native to San Diego, California, is...</td>\n",
       "      <td>NaN</td>\n",
       "      <td>NaN</td>\n",
       "      <td>Wet-Dream sativa Uplifted,Energetic,Happy,Euph...</td>\n",
       "      <td>wet dream sativa uplift energetic happy euphor...</td>\n",
       "      <td>(2191, 1276, 1285, 280, 243)</td>\n",
       "    </tr>\n",
       "  </tbody>\n",
       "</table>\n",
       "</div>"
      ],
      "text/plain": [
       "      index          Strain    Type  \\\n",
       "935     935     Green-Mango  indica   \n",
       "1579   1579  Pink-Starburst  hybrid   \n",
       "28       28   Ace-Killer-Og  indica   \n",
       "510     510          Chicle  hybrid   \n",
       "2191   2191       Wet-Dream  sativa   \n",
       "\n",
       "                                         Effects                      Flavor  \\\n",
       "935     Euphoric,Uplifted,Happy,Creative,Relaxed         Citrus,Earthy,Woody   \n",
       "1579  Euphoric,Happy,Talkative,Uplifted,Creative          Sweet,Diesel,Berry   \n",
       "28        Relaxed,Sleepy,Euphoric,Happy,Uplifted  Earthy,Diesel,Spicy/Herbal   \n",
       "510        Aroused,Euphoric,Focused,Happy,Hungry         Ammonia,Diesel,Mint   \n",
       "2191  Uplifted,Energetic,Happy,Euphoric,Creative   Earthy,Spicy/Herbal,Woody   \n",
       "\n",
       "                                            Description name ailment  \\\n",
       "935   Green Mango by Sumo Seeds is a tropical indica...  NaN     NaN   \n",
       "1579  Pink Starburst by Manali West is an ultra pote...  NaN     NaN   \n",
       "28    Ace Killer OG is an indica strain that boasts ...  NaN     NaN   \n",
       "510   Chicle (aka Bubbledawg) by T.H. Seeds is an aw...  NaN     NaN   \n",
       "2191  Wet Dream, native to San Diego, California, is...  NaN     NaN   \n",
       "\n",
       "                                               all_text  \\\n",
       "935   Green-Mango indica Euphoric,Uplifted,Happy,Cre...   \n",
       "1579  Pink-Starburst hybrid Euphoric,Happy,Talkative...   \n",
       "28    Ace-Killer-Og indica Relaxed,Sleepy,Euphoric,H...   \n",
       "510   Chicle hybrid Aroused,Euphoric,Focused,Happy,H...   \n",
       "2191  Wet-Dream sativa Uplifted,Energetic,Happy,Euph...   \n",
       "\n",
       "                                                 lemmas  \\\n",
       "935   Green Mango indica Euphoric Uplifted happy Cre...   \n",
       "1579  pink Starburst hybrid Euphoric happy talkative...   \n",
       "28    Ace Killer Og indica Relaxed sleepy Euphoric h...   \n",
       "510   Chicle hybrid arouse Euphoric Focused happy hu...   \n",
       "2191  wet dream sativa uplift energetic happy euphor...   \n",
       "\n",
       "                    Cos Sim Strains  \n",
       "935   (1340, 1310, 373, 1315, 1314)  \n",
       "1579   (1579, 788, 653, 1847, 1871)  \n",
       "28      (1360, 1421, 1540, 417, 26)  \n",
       "510    (2113, 32, 1746, 1973, 1269)  \n",
       "2191   (2191, 1276, 1285, 280, 243)  "
      ]
     },
     "execution_count": 34,
     "metadata": {},
     "output_type": "execute_result"
    }
   ],
   "source": [
    "df_strains.sample(5)"
   ]
  },
  {
   "cell_type": "code",
   "execution_count": 35,
   "metadata": {},
   "outputs": [
    {
     "data": {
      "text/html": [
       "<div>\n",
       "<style scoped>\n",
       "    .dataframe tbody tr th:only-of-type {\n",
       "        vertical-align: middle;\n",
       "    }\n",
       "\n",
       "    .dataframe tbody tr th {\n",
       "        vertical-align: top;\n",
       "    }\n",
       "\n",
       "    .dataframe thead th {\n",
       "        text-align: right;\n",
       "    }\n",
       "</style>\n",
       "<table border=\"1\" class=\"dataframe\">\n",
       "  <thead>\n",
       "    <tr style=\"text-align: right;\">\n",
       "      <th></th>\n",
       "      <th>index</th>\n",
       "      <th>Strain</th>\n",
       "      <th>Type</th>\n",
       "      <th>Effects</th>\n",
       "      <th>Flavor</th>\n",
       "      <th>Description</th>\n",
       "      <th>name</th>\n",
       "      <th>ailment</th>\n",
       "      <th>all_text</th>\n",
       "      <th>lemmas</th>\n",
       "      <th>Cos Sim Strains</th>\n",
       "    </tr>\n",
       "  </thead>\n",
       "  <tbody>\n",
       "    <tr>\n",
       "      <th>0</th>\n",
       "      <td>0</td>\n",
       "      <td>100-Og</td>\n",
       "      <td>hybrid</td>\n",
       "      <td>Creative,Energetic,Tingly,Euphoric,Relaxed</td>\n",
       "      <td>Earthy,Sweet,Citrus</td>\n",
       "      <td>$100 OG is a 50/50 hybrid strain that packs a ...</td>\n",
       "      <td>NaN</td>\n",
       "      <td>NaN</td>\n",
       "      <td>100-Og hybrid Creative,Energetic,Tingly,Euphor...</td>\n",
       "      <td>100-Og hybrid Creative energetic Tingly Euphor...</td>\n",
       "      <td>(670, 2137, 1837, 1384, 1697)</td>\n",
       "    </tr>\n",
       "    <tr>\n",
       "      <th>1</th>\n",
       "      <td>1</td>\n",
       "      <td>98-White-Widow</td>\n",
       "      <td>hybrid</td>\n",
       "      <td>Relaxed,Aroused,Creative,Happy,Energetic</td>\n",
       "      <td>Flowery,Violet,Diesel</td>\n",
       "      <td>The ‘98 Aloha White Widow is an especially pot...</td>\n",
       "      <td>NaN</td>\n",
       "      <td>NaN</td>\n",
       "      <td>98-White-Widow hybrid Relaxed,Aroused,Creative...</td>\n",
       "      <td>98-white widow hybrid Relaxed arouse Creative ...</td>\n",
       "      <td>(2240, 237, 820, 2221, 2239)</td>\n",
       "    </tr>\n",
       "    <tr>\n",
       "      <th>2</th>\n",
       "      <td>2</td>\n",
       "      <td>1024</td>\n",
       "      <td>sativa</td>\n",
       "      <td>Uplifted,Happy,Relaxed,Energetic,Creative</td>\n",
       "      <td>Spicy/Herbal,Sage,Woody</td>\n",
       "      <td>1024 is a sativa-dominant hybrid bred in Spain...</td>\n",
       "      <td>1024</td>\n",
       "      <td>Stress, Pain, Depression, Inflammation</td>\n",
       "      <td>1024 sativa Uplifted,Happy,Relaxed,Energetic,C...</td>\n",
       "      <td>1024 sativa Uplifted happy relaxed energetic C...</td>\n",
       "      <td>(1041, 1014, 2171, 620, 1413)</td>\n",
       "    </tr>\n",
       "    <tr>\n",
       "      <th>3</th>\n",
       "      <td>3</td>\n",
       "      <td>13-Dawgs</td>\n",
       "      <td>hybrid</td>\n",
       "      <td>Tingly,Creative,Hungry,Relaxed,Uplifted</td>\n",
       "      <td>Apricot,Citrus,Grapefruit</td>\n",
       "      <td>13 Dawgs is a hybrid of G13 and Chemdawg genet...</td>\n",
       "      <td>NaN</td>\n",
       "      <td>NaN</td>\n",
       "      <td>13-Dawgs hybrid Tingly,Creative,Hungry,Relaxed...</td>\n",
       "      <td>13-dawgs hybrid Tingly creative hungry Relaxed...</td>\n",
       "      <td>(3, 1026, 1043, 133, 913)</td>\n",
       "    </tr>\n",
       "    <tr>\n",
       "      <th>4</th>\n",
       "      <td>4</td>\n",
       "      <td>24K-Gold</td>\n",
       "      <td>hybrid</td>\n",
       "      <td>Happy,Relaxed,Euphoric,Uplifted,Talkative</td>\n",
       "      <td>Citrus,Earthy,Orange</td>\n",
       "      <td>Also known as Kosher Tangie, 24k Gold is a 60%...</td>\n",
       "      <td>NaN</td>\n",
       "      <td>NaN</td>\n",
       "      <td>24K-Gold hybrid Happy,Relaxed,Euphoric,Uplifte...</td>\n",
       "      <td>24k gold hybrid Happy Relaxed Euphoric Uplifte...</td>\n",
       "      <td>(1498, 1483, 1172, 544, 1496)</td>\n",
       "    </tr>\n",
       "  </tbody>\n",
       "</table>\n",
       "</div>"
      ],
      "text/plain": [
       "   index          Strain    Type                                     Effects  \\\n",
       "0      0          100-Og  hybrid  Creative,Energetic,Tingly,Euphoric,Relaxed   \n",
       "1      1  98-White-Widow  hybrid    Relaxed,Aroused,Creative,Happy,Energetic   \n",
       "2      2            1024  sativa   Uplifted,Happy,Relaxed,Energetic,Creative   \n",
       "3      3        13-Dawgs  hybrid     Tingly,Creative,Hungry,Relaxed,Uplifted   \n",
       "4      4        24K-Gold  hybrid   Happy,Relaxed,Euphoric,Uplifted,Talkative   \n",
       "\n",
       "                      Flavor  \\\n",
       "0        Earthy,Sweet,Citrus   \n",
       "1      Flowery,Violet,Diesel   \n",
       "2    Spicy/Herbal,Sage,Woody   \n",
       "3  Apricot,Citrus,Grapefruit   \n",
       "4       Citrus,Earthy,Orange   \n",
       "\n",
       "                                         Description  name  \\\n",
       "0  $100 OG is a 50/50 hybrid strain that packs a ...   NaN   \n",
       "1  The ‘98 Aloha White Widow is an especially pot...   NaN   \n",
       "2  1024 is a sativa-dominant hybrid bred in Spain...  1024   \n",
       "3  13 Dawgs is a hybrid of G13 and Chemdawg genet...   NaN   \n",
       "4  Also known as Kosher Tangie, 24k Gold is a 60%...   NaN   \n",
       "\n",
       "                                  ailment  \\\n",
       "0                                     NaN   \n",
       "1                                     NaN   \n",
       "2  Stress, Pain, Depression, Inflammation   \n",
       "3                                     NaN   \n",
       "4                                     NaN   \n",
       "\n",
       "                                            all_text  \\\n",
       "0  100-Og hybrid Creative,Energetic,Tingly,Euphor...   \n",
       "1  98-White-Widow hybrid Relaxed,Aroused,Creative...   \n",
       "2  1024 sativa Uplifted,Happy,Relaxed,Energetic,C...   \n",
       "3  13-Dawgs hybrid Tingly,Creative,Hungry,Relaxed...   \n",
       "4  24K-Gold hybrid Happy,Relaxed,Euphoric,Uplifte...   \n",
       "\n",
       "                                              lemmas  \\\n",
       "0  100-Og hybrid Creative energetic Tingly Euphor...   \n",
       "1  98-white widow hybrid Relaxed arouse Creative ...   \n",
       "2  1024 sativa Uplifted happy relaxed energetic C...   \n",
       "3  13-dawgs hybrid Tingly creative hungry Relaxed...   \n",
       "4  24k gold hybrid Happy Relaxed Euphoric Uplifte...   \n",
       "\n",
       "                 Cos Sim Strains  \n",
       "0  (670, 2137, 1837, 1384, 1697)  \n",
       "1   (2240, 237, 820, 2221, 2239)  \n",
       "2  (1041, 1014, 2171, 620, 1413)  \n",
       "3      (3, 1026, 1043, 133, 913)  \n",
       "4  (1498, 1483, 1172, 544, 1496)  "
      ]
     },
     "execution_count": 35,
     "metadata": {},
     "output_type": "execute_result"
    }
   ],
   "source": [
    "df_strains.head()"
   ]
  },
  {
   "cell_type": "markdown",
   "metadata": {},
   "source": [
    "# K-Nearest Neighbors Model"
   ]
  },
  {
   "cell_type": "code",
   "execution_count": 36,
   "metadata": {},
   "outputs": [],
   "source": [
    "# Imports\n",
    "\n",
    "from sklearn.neighbors import NearestNeighbors"
   ]
  },
  {
   "cell_type": "code",
   "execution_count": 37,
   "metadata": {},
   "outputs": [
    {
     "data": {
      "text/plain": [
       "NearestNeighbors(algorithm='kd_tree', leaf_size=30, metric='minkowski',\n",
       "                 metric_params=None, n_jobs=None, n_neighbors=5, p=2,\n",
       "                 radius=1.0)"
      ]
     },
     "execution_count": 37,
     "metadata": {},
     "output_type": "execute_result"
    }
   ],
   "source": [
    "# Instantiating & fitting model to dtm\n",
    "\n",
    "knn = NearestNeighbors(n_neighbors=5, algorithm='kd_tree')\n",
    "knn.fit(dtm)"
   ]
  },
  {
   "cell_type": "markdown",
   "metadata": {},
   "source": [
    "## Testing Trained KNN Model on Test Input"
   ]
  },
  {
   "cell_type": "code",
   "execution_count": 81,
   "metadata": {},
   "outputs": [],
   "source": [
    "test_input = 'I want a strain that would make me relaxed and euphoric as well as sleepy'"
   ]
  },
  {
   "cell_type": "code",
   "execution_count": 39,
   "metadata": {},
   "outputs": [],
   "source": [
    "# vect = TfidfVectorizer(stop_words=\"english\", min_df=0.025, max_df=0.98, ngram_range=(1,3))"
   ]
  },
  {
   "cell_type": "code",
   "execution_count": 82,
   "metadata": {},
   "outputs": [],
   "source": [
    "# Tokenizing User Input\n",
    "\n",
    "test_input = tokenize(test_input)"
   ]
  },
  {
   "cell_type": "code",
   "execution_count": 83,
   "metadata": {},
   "outputs": [],
   "source": [
    "# Vectorizing & Processing Raw Test Input\n",
    "\n",
    "test_input = vect.transform(test_input)"
   ]
  },
  {
   "cell_type": "code",
   "execution_count": 84,
   "metadata": {},
   "outputs": [],
   "source": [
    "test_input = test_input.todense()"
   ]
  },
  {
   "cell_type": "code",
   "execution_count": 85,
   "metadata": {},
   "outputs": [
    {
     "data": {
      "text/plain": [
       "(5, 470)"
      ]
     },
     "execution_count": 85,
     "metadata": {},
     "output_type": "execute_result"
    }
   ],
   "source": [
    "test_input.shape"
   ]
  },
  {
   "cell_type": "code",
   "execution_count": 86,
   "metadata": {},
   "outputs": [
    {
     "data": {
      "text/plain": [
       "(2280, 470)"
      ]
     },
     "execution_count": 86,
     "metadata": {},
     "output_type": "execute_result"
    }
   ],
   "source": [
    "dtm.shape"
   ]
  },
  {
   "cell_type": "code",
   "execution_count": 87,
   "metadata": {},
   "outputs": [],
   "source": [
    "# Calculating Predicted Strains\n",
    "\n",
    "predictions = knn.kneighbors(test_input)"
   ]
  },
  {
   "cell_type": "code",
   "execution_count": 88,
   "metadata": {},
   "outputs": [
    {
     "data": {
      "text/plain": [
       "(array([[1.        , 1.        , 1.        , 1.        , 1.        ],\n",
       "        [1.22065742, 1.22586952, 1.23226439, 1.23255444, 1.2327771 ],\n",
       "        [1.29685671, 1.30250781, 1.30450287, 1.30723764, 1.31413888],\n",
       "        [1.29311847, 1.29321211, 1.29874137, 1.29969628, 1.2996996 ],\n",
       "        [1.2305507 , 1.23129812, 1.24715442, 1.25019384, 1.26702328]]),\n",
       " array([[1431,  337,  833, 1687, 2111],\n",
       "        [1805, 1831,  176,  768,  967],\n",
       "        [ 683, 2019, 1061, 2253, 2175],\n",
       "        [1019, 1783, 1596,  387, 1688],\n",
       "        [2269, 1734,  753,  466, 1907]]))"
      ]
     },
     "execution_count": 88,
     "metadata": {},
     "output_type": "execute_result"
    }
   ],
   "source": [
    "predictions"
   ]
  },
  {
   "cell_type": "code",
   "execution_count": 89,
   "metadata": {},
   "outputs": [
    {
     "data": {
      "text/plain": [
       "array([1431,  337,  833, 1687, 2111])"
      ]
     },
     "execution_count": 89,
     "metadata": {},
     "output_type": "execute_result"
    }
   ],
   "source": [
    "# Top 5 Predictions\n",
    "\n",
    "predictions[1][0]"
   ]
  },
  {
   "cell_type": "code",
   "execution_count": 90,
   "metadata": {},
   "outputs": [],
   "source": [
    "top_match = predictions[1][0][0]"
   ]
  },
  {
   "cell_type": "code",
   "execution_count": 91,
   "metadata": {},
   "outputs": [
    {
     "data": {
      "text/plain": [
       "1431"
      ]
     },
     "execution_count": 91,
     "metadata": {},
     "output_type": "execute_result"
    }
   ],
   "source": [
    "top_match"
   ]
  },
  {
   "cell_type": "code",
   "execution_count": 92,
   "metadata": {},
   "outputs": [],
   "source": [
    "output = df_strains.iloc[top_match]"
   ]
  },
  {
   "cell_type": "code",
   "execution_count": 93,
   "metadata": {},
   "outputs": [
    {
     "data": {
      "text/plain": [
       "{'index': 1431,\n",
       " 'Strain': 'Nightmare-Cookies',\n",
       " 'Type': 'hybrid',\n",
       " 'Effects': 'Relaxed,Euphoric,Happy,Creative,Uplifted',\n",
       " 'Flavor': 'Sweet,Pine,Woody',\n",
       " 'Description': 'The commonsense cross of White Nightmare and Girl Scout Cookies, Nightmare Cookies is a hybrid strain that locks the consumer to the couch while delivering robust, uplifting euphoria. Nightmare Cookies exhibits beautiful purple hues, bright orange pistils, and an aroma that is thick with pine sap, earth, and sweetness. Enjoy this strain toward the end of the day to capitalize on its relaxing effects, appetite stimulation, and overall sedation.\\xa0'}"
      ]
     },
     "execution_count": 93,
     "metadata": {},
     "output_type": "execute_result"
    }
   ],
   "source": [
    "output.drop(['name', 'ailment', 'all_text', 'lemmas', 'Cos Sim Strains']).to_dict()"
   ]
  },
  {
   "cell_type": "markdown",
   "metadata": {},
   "source": [
    "## Creating & Testing DataBase in MongoDB"
   ]
  },
  {
   "cell_type": "code",
   "execution_count": 52,
   "metadata": {},
   "outputs": [],
   "source": [
    "# from pymongo import MongoClient"
   ]
  },
  {
   "cell_type": "code",
   "execution_count": 53,
   "metadata": {},
   "outputs": [],
   "source": [
    "# # Mongo Credentials\n",
    "\n",
    "# MONGODB_USER = 'pot_head'\n",
    "# MONGODB_PASS = 'vSSweD3UfaPfLbCl'\n",
    "# MONGODB_URI = 'cannabis.plrhi.mongodb.net'"
   ]
  },
  {
   "cell_type": "code",
   "execution_count": 56,
   "metadata": {},
   "outputs": [],
   "source": [
    "# client = MongoClient(f\"mongodb+srv://{MONGODB_USER}:{MONGODB_PASS}@{MONGODB_URI}/<dbname>?retryWrites=true&w=majority\").MEDCABU4.cannabis\n",
    "# db = client.test"
   ]
  },
  {
   "cell_type": "code",
   "execution_count": 57,
   "metadata": {},
   "outputs": [
    {
     "data": {
      "text/plain": [
       "Collection(Database(MongoClient(host=['cannabis-shard-00-00.plrhi.mongodb.net:27017', 'cannabis-shard-00-01.plrhi.mongodb.net:27017', 'cannabis-shard-00-02.plrhi.mongodb.net:27017'], document_class=dict, tz_aware=False, connect=True, retrywrites=True, w='majority', authsource='admin', replicaset='atlas-kv69op-shard-0', ssl=True), 'MEDCABU4'), 'cannabis.test')"
      ]
     },
     "execution_count": 57,
     "metadata": {},
     "output_type": "execute_result"
    }
   ],
   "source": [
    "# db"
   ]
  },
  {
   "cell_type": "markdown",
   "metadata": {},
   "source": [
    "## Testing User Input on Cosine Similarity Model"
   ]
  },
  {
   "cell_type": "code",
   "execution_count": 94,
   "metadata": {},
   "outputs": [
    {
     "data": {
      "text/plain": [
       "NearestNeighbors(algorithm='auto', leaf_size=30, metric='cosine',\n",
       "                 metric_params=None, n_jobs=None, n_neighbors=5, p=2,\n",
       "                 radius=1.0)"
      ]
     },
     "execution_count": 94,
     "metadata": {},
     "output_type": "execute_result"
    }
   ],
   "source": [
    "# Instantiating & Fitting Cosine Similarity using Nearest Neighbors Model\n",
    "\n",
    "cnn = NearestNeighbors(n_neighbors=5, metric='cosine')\n",
    "cnn.fit(dtm)"
   ]
  },
  {
   "cell_type": "code",
   "execution_count": 60,
   "metadata": {},
   "outputs": [
    {
     "name": "stdout",
     "output_type": "stream",
     "text": [
      "\u001b[38;5;2m✔ Download and installation successful\u001b[0m\n",
      "You can now load the model via spacy.load('en_core_web_sm')\n"
     ]
    }
   ],
   "source": [
    "import spacy.cli\n",
    "spacy.cli.download(\"en_core_web_sm\")"
   ]
  },
  {
   "cell_type": "code",
   "execution_count": 61,
   "metadata": {},
   "outputs": [],
   "source": [
    "import spacy\n",
    "nlp = spacy.load(\"en_core_web_sm\")"
   ]
  },
  {
   "cell_type": "code",
   "execution_count": 62,
   "metadata": {},
   "outputs": [],
   "source": [
    "# Function for Tokenizing User Input\n",
    "\n",
    "def tokenize(document):\n",
    "    doc = nlp(document)\n",
    "    return [token.lemma_.strip() for token in doc if (token.is_stop != True) and (token.is_punct != True)]"
   ]
  },
  {
   "cell_type": "code",
   "execution_count": 96,
   "metadata": {},
   "outputs": [],
   "source": [
    "test_input = 'I want a strain that would make me relaxed and euphoric as well as sleepy'"
   ]
  },
  {
   "cell_type": "code",
   "execution_count": 97,
   "metadata": {},
   "outputs": [],
   "source": [
    "# Tokenizing User Input\n",
    "\n",
    "test_input = tokenize(test_input)"
   ]
  },
  {
   "cell_type": "code",
   "execution_count": 98,
   "metadata": {},
   "outputs": [],
   "source": [
    "# Vectorizing User Input\n",
    "\n",
    "test_input = vect.transform(test_input)"
   ]
  },
  {
   "cell_type": "code",
   "execution_count": 99,
   "metadata": {},
   "outputs": [],
   "source": [
    "test_input = test_input.todense()"
   ]
  },
  {
   "cell_type": "code",
   "execution_count": 100,
   "metadata": {},
   "outputs": [
    {
     "data": {
      "text/plain": [
       "matrix([[0., 0., 0., ..., 0., 0., 0.],\n",
       "        [0., 0., 0., ..., 0., 0., 0.],\n",
       "        [0., 0., 0., ..., 0., 0., 0.],\n",
       "        [0., 0., 0., ..., 0., 0., 0.],\n",
       "        [0., 0., 0., ..., 0., 0., 0.]])"
      ]
     },
     "execution_count": 100,
     "metadata": {},
     "output_type": "execute_result"
    }
   ],
   "source": [
    "test_input"
   ]
  },
  {
   "cell_type": "code",
   "execution_count": 101,
   "metadata": {},
   "outputs": [],
   "source": [
    "prediction = cnn.kneighbors(test_input)"
   ]
  },
  {
   "cell_type": "code",
   "execution_count": 102,
   "metadata": {},
   "outputs": [],
   "source": [
    "best_match = prediction[1][0][0]"
   ]
  },
  {
   "cell_type": "code",
   "execution_count": 103,
   "metadata": {},
   "outputs": [],
   "source": [
    "output = df_strains.iloc[best_match]"
   ]
  },
  {
   "cell_type": "code",
   "execution_count": 104,
   "metadata": {},
   "outputs": [
    {
     "data": {
      "text/plain": [
       "{'index': 1519,\n",
       " 'Strain': 'Panama-Red',\n",
       " 'Type': 'sativa',\n",
       " 'Effects': 'Happy,Hungry,Uplifted,Energetic,Focused',\n",
       " 'Flavor': 'Earthy,Spicy/Herbal,Skunk',\n",
       " 'Description': 'Panama Red is best described as an old-school cannabis classic. Originating from Panama, this pure sativa rose to stardom in the late 1960’s thanks to its typical sativa effects: speedy and intense, bordering on psychedelic. As cannabis cultivation matured, Panama Red, which has a lengthy flowering time of at least 11 weeks, was left behind for faster growing strains and increased profits. However, those who fondly recall days of its prominence love its smooth medicating experience and loftily contemplate its revival. If you can get your hands on this sentimental throwback, do not hesitate to groove down memory lane and enjoy the ride.'}"
      ]
     },
     "execution_count": 104,
     "metadata": {},
     "output_type": "execute_result"
    }
   ],
   "source": [
    "output.drop(['name', 'ailment', 'all_text', 'lemmas', 'Cos Sim Strains']).to_dict()"
   ]
  },
  {
   "cell_type": "code",
   "execution_count": null,
   "metadata": {},
   "outputs": [],
   "source": []
  },
  {
   "cell_type": "code",
   "execution_count": null,
   "metadata": {},
   "outputs": [],
   "source": []
  }
 ],
 "metadata": {
  "kernelspec": {
   "display_name": "U4-S1-NLP (Python3)",
   "language": "python",
   "name": "u4-s1-nlp"
  },
  "language_info": {
   "codemirror_mode": {
    "name": "ipython",
    "version": 3
   },
   "file_extension": ".py",
   "mimetype": "text/x-python",
   "name": "python",
   "nbconvert_exporter": "python",
   "pygments_lexer": "ipython3",
   "version": "3.7.0"
  }
 },
 "nbformat": 4,
 "nbformat_minor": 4
}
